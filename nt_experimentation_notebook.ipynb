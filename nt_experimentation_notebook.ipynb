{
 "cells": [
  {
   "cell_type": "markdown",
   "metadata": {},
   "source": [
    "# Experimentación con ScikitLearn\n",
    "\n",
    "Vamos a realizar un proceso de aprendizaje y experimentación con la libreria ScikitLearn. (basado en el curso NLP modelos y algoritmos de la universidad Austral)\n",
    "\n",
    "en este caso vamos a practicar lo aprendido en cada modulo del curso."
   ]
  },
  {
   "cell_type": "code",
   "execution_count": 2,
   "metadata": {},
   "outputs": [],
   "source": [
    "\n",
    "from nltk.corpus import stopwords\n",
    "from nltk import word_tokenize\n",
    "from sklearn.feature_extraction.text import CountVectorizer\n",
    "\n",
    "import matplotlib.pyplot as plt\n",
    "import seaborn as sns\n",
    "\n",
    "import pandas as pd"
   ]
  },
  {
   "cell_type": "code",
   "execution_count": 3,
   "metadata": {},
   "outputs": [],
   "source": [
    "def leer_texto(path_archivo):\n",
    "    \n",
    "    \"\"\"obtiene un string con el texto completro de un archivo\n",
    "\n",
    "    Returns:\n",
    "        _string_: \n",
    "        string: texto de un archivos\n",
    "    \"\"\"\n",
    "\n",
    "    text = ''\n",
    "    \n",
    "    archivo = open(path_archivo, 'r', encoding='utf8')\n",
    "\n",
    "    while(True):\n",
    "        linea = archivo.readline()\n",
    "        text = text+linea\n",
    "        if not linea:\n",
    "            break\n",
    "    \n",
    "    archivo.close\n",
    "    \n",
    "    return text"
   ]
  },
  {
   "cell_type": "code",
   "execution_count": 4,
   "metadata": {},
   "outputs": [],
   "source": [
    "#importamos los archivos con los que vamos a trabajar\n",
    "\n",
    "path_petro = './archivos/petro_clean.pdf.txt'\n",
    "path_fajardo = './archivos/fajardo_clean.pdf.txt'\n",
    "path_rodolfo = './archivos/rodolfo_clean.pdf.txt'\n",
    "\n",
    "texto_petro = leer_texto(path_petro)\n",
    "texto_fajardo = leer_texto(path_fajardo)\n",
    "texto_rodolfo = leer_texto(path_rodolfo)"
   ]
  },
  {
   "cell_type": "code",
   "execution_count": 5,
   "metadata": {},
   "outputs": [],
   "source": [
    "#Creamos el corpus de nuestro proceso\n",
    "corpus =[texto_petro,\n",
    "         texto_fajardo,\n",
    "         texto_rodolfo]"
   ]
  },
  {
   "cell_type": "code",
   "execution_count": 6,
   "metadata": {},
   "outputs": [],
   "source": [
    "#crea el count vectorizer\n",
    "\n",
    "count_vectorizer = CountVectorizer(analyzer='word',\n",
    "                                   decode_error='ignore',\n",
    "                                   encoding='str',\n",
    "                                   lowercase=True,\n",
    "                                   stop_words=stopwords.words('spanish'),\n",
    "                                   strip_accents='ascii',\n",
    "                                   min_df=2,\n",
    "                                   max_features=40)"
   ]
  },
  {
   "cell_type": "code",
   "execution_count": 7,
   "metadata": {},
   "outputs": [
    {
     "name": "stderr",
     "output_type": "stream",
     "text": [
      "/opt/homebrew/lib/python3.9/site-packages/sklearn/feature_extraction/text.py:396: UserWarning: Your stop_words may be inconsistent with your preprocessing. Tokenizing the stop words generated tokens ['eramos', 'estabamos', 'estais', 'estan', 'estara', 'estaran', 'estaras', 'estare', 'estareis', 'estaria', 'estariais', 'estariamos', 'estarian', 'estarias', 'esteis', 'esten', 'estes', 'estuvieramos', 'estuviesemos', 'fueramos', 'fuesemos', 'habeis', 'habia', 'habiais', 'habiamos', 'habian', 'habias', 'habra', 'habran', 'habras', 'habre', 'habreis', 'habria', 'habriais', 'habriamos', 'habrian', 'habrias', 'hayais', 'hubieramos', 'hubiesemos', 'mas', 'mia', 'mias', 'mio', 'mios', 'seais', 'sera', 'seran', 'seras', 'sere', 'sereis', 'seria', 'seriais', 'seriamos', 'serian', 'serias', 'si', 'tambien', 'tendra', 'tendran', 'tendras', 'tendre', 'tendreis', 'tendria', 'tendriais', 'tendriamos', 'tendrian', 'tendrias', 'teneis', 'tengais', 'tenia', 'teniais', 'teniamos', 'tenian', 'tenias', 'tuvieramos', 'tuviesemos'] not in stop_words.\n",
      "  warnings.warn(\n"
     ]
    }
   ],
   "source": [
    "\n",
    "data_vectorized = count_vectorizer.fit_transform(corpus)\n"
   ]
  },
  {
   "cell_type": "code",
   "execution_count": 8,
   "metadata": {},
   "outputs": [
    {
     "name": "stderr",
     "output_type": "stream",
     "text": [
      "/opt/homebrew/lib/python3.9/site-packages/sklearn/utils/deprecation.py:87: FutureWarning: Function get_feature_names is deprecated; get_feature_names is deprecated in 1.0 and will be removed in 1.2. Please use get_feature_names_out instead.\n",
      "  warnings.warn(msg, category=FutureWarning)\n"
     ]
    }
   ],
   "source": [
    "data_dtm = pd.DataFrame(data_vectorized.toarray(), columns=count_vectorizer.get_feature_names())"
   ]
  },
  {
   "cell_type": "code",
   "execution_count": 9,
   "metadata": {},
   "outputs": [
    {
     "data": {
      "text/html": [
       "<div>\n",
       "<style scoped>\n",
       "    .dataframe tbody tr th:only-of-type {\n",
       "        vertical-align: middle;\n",
       "    }\n",
       "\n",
       "    .dataframe tbody tr th {\n",
       "        vertical-align: top;\n",
       "    }\n",
       "\n",
       "    .dataframe thead th {\n",
       "        text-align: right;\n",
       "    }\n",
       "</style>\n",
       "<table border=\"1\" class=\"dataframe\">\n",
       "  <thead>\n",
       "    <tr style=\"text-align: right;\">\n",
       "      <th></th>\n",
       "      <th>acceso</th>\n",
       "      <th>asi</th>\n",
       "      <th>calidad</th>\n",
       "      <th>cambio</th>\n",
       "      <th>colombia</th>\n",
       "      <th>condiciones</th>\n",
       "      <th>debe</th>\n",
       "      <th>derechos</th>\n",
       "      <th>desarrollo</th>\n",
       "      <th>economia</th>\n",
       "      <th>...</th>\n",
       "      <th>recursos</th>\n",
       "      <th>salud</th>\n",
       "      <th>sector</th>\n",
       "      <th>sera</th>\n",
       "      <th>servicios</th>\n",
       "      <th>sistema</th>\n",
       "      <th>social</th>\n",
       "      <th>trabajo</th>\n",
       "      <th>traves</th>\n",
       "      <th>vida</th>\n",
       "    </tr>\n",
       "  </thead>\n",
       "  <tbody>\n",
       "    <tr>\n",
       "      <th>0</th>\n",
       "      <td>52</td>\n",
       "      <td>45</td>\n",
       "      <td>29</td>\n",
       "      <td>43</td>\n",
       "      <td>60</td>\n",
       "      <td>43</td>\n",
       "      <td>11</td>\n",
       "      <td>68</td>\n",
       "      <td>34</td>\n",
       "      <td>86</td>\n",
       "      <td>...</td>\n",
       "      <td>14</td>\n",
       "      <td>70</td>\n",
       "      <td>22</td>\n",
       "      <td>54</td>\n",
       "      <td>30</td>\n",
       "      <td>92</td>\n",
       "      <td>62</td>\n",
       "      <td>59</td>\n",
       "      <td>31</td>\n",
       "      <td>108</td>\n",
       "    </tr>\n",
       "    <tr>\n",
       "      <th>1</th>\n",
       "      <td>12</td>\n",
       "      <td>8</td>\n",
       "      <td>18</td>\n",
       "      <td>24</td>\n",
       "      <td>48</td>\n",
       "      <td>7</td>\n",
       "      <td>7</td>\n",
       "      <td>18</td>\n",
       "      <td>44</td>\n",
       "      <td>4</td>\n",
       "      <td>...</td>\n",
       "      <td>17</td>\n",
       "      <td>26</td>\n",
       "      <td>25</td>\n",
       "      <td>12</td>\n",
       "      <td>20</td>\n",
       "      <td>25</td>\n",
       "      <td>17</td>\n",
       "      <td>16</td>\n",
       "      <td>20</td>\n",
       "      <td>15</td>\n",
       "    </tr>\n",
       "    <tr>\n",
       "      <th>2</th>\n",
       "      <td>28</td>\n",
       "      <td>32</td>\n",
       "      <td>46</td>\n",
       "      <td>17</td>\n",
       "      <td>116</td>\n",
       "      <td>32</td>\n",
       "      <td>69</td>\n",
       "      <td>19</td>\n",
       "      <td>71</td>\n",
       "      <td>17</td>\n",
       "      <td>...</td>\n",
       "      <td>50</td>\n",
       "      <td>51</td>\n",
       "      <td>56</td>\n",
       "      <td>17</td>\n",
       "      <td>43</td>\n",
       "      <td>52</td>\n",
       "      <td>52</td>\n",
       "      <td>35</td>\n",
       "      <td>38</td>\n",
       "      <td>40</td>\n",
       "    </tr>\n",
       "  </tbody>\n",
       "</table>\n",
       "<p>3 rows × 40 columns</p>\n",
       "</div>"
      ],
      "text/plain": [
       "   acceso  asi  calidad  cambio  colombia  condiciones  debe  derechos  \\\n",
       "0      52   45       29      43        60           43    11        68   \n",
       "1      12    8       18      24        48            7     7        18   \n",
       "2      28   32       46      17       116           32    69        19   \n",
       "\n",
       "   desarrollo  economia  ...  recursos  salud  sector  sera  servicios  \\\n",
       "0          34        86  ...        14     70      22    54         30   \n",
       "1          44         4  ...        17     26      25    12         20   \n",
       "2          71        17  ...        50     51      56    17         43   \n",
       "\n",
       "   sistema  social  trabajo  traves  vida  \n",
       "0       92      62       59      31   108  \n",
       "1       25      17       16      20    15  \n",
       "2       52      52       35      38    40  \n",
       "\n",
       "[3 rows x 40 columns]"
      ]
     },
     "execution_count": 9,
     "metadata": {},
     "output_type": "execute_result"
    }
   ],
   "source": [
    "data_dtm"
   ]
  },
  {
   "cell_type": "code",
   "execution_count": 10,
   "metadata": {},
   "outputs": [
    {
     "data": {
      "text/plain": [
       "<AxesSubplot:>"
      ]
     },
     "execution_count": 10,
     "metadata": {},
     "output_type": "execute_result"
    },
    {
     "data": {
      "image/png": "[encoded data removed]",
      "text/plain": [
       "<Figure size 1080x936 with 2 Axes>"
      ]
     },
     "metadata": {
      "needs_background": "light"
     },
     "output_type": "display_data"
    }
   ],
   "source": [
    "plt.figure(figsize=(15,13))\n",
    "sns.heatmap(data_dtm.transpose(),\n",
    "            annot=True,\n",
    "            cmap=\"Blues\", \n",
    "            fmt=\"d\")\n"
   ]
  },
  {
   "cell_type": "markdown",
   "metadata": {},
   "source": [
    "# Experimentación con Spacy\n",
    "\n",
    "vamos a experimentar con la libreria de NLP Spacy que ofrece metodos avanzados para el procesamiento de documentos."
   ]
  },
  {
   "cell_type": "code",
   "execution_count": 87,
   "metadata": {},
   "outputs": [],
   "source": [
    "from spacy.lang.es import Spanish\n",
    "import spacy\n",
    "\n",
    "lis_ents_petro =[]\n",
    "\n",
    "nlp_md = spacy.load('es_core_news_md')\n",
    "\n",
    "petro_txt = leer_texto('./archivos/petro_clean.pdf.txt')\n",
    "fajardo_txt = leer_texto('./archivos/fajardo_clean.pdf.txt')\n",
    "rodolfo_txt = leer_texto('./archivos/rodolfo_clean.pdf.txt')\n",
    "\n",
    "#Creamos los objetos Doc de cada uno de los archivos de planes de gobierno\n",
    "doc_petro = nlp_md(texto_petro)\n",
    "doc_fajardo = nlp_md(texto_fajardo)\n",
    "doc_rodolfo = nlp_md(texto_rodolfo)"
   ]
  },
  {
   "cell_type": "markdown",
   "metadata": {},
   "source": [
    "# Busqueda con spacy\n",
    "\n",
    "Se puede usar spacy para buscar contenido basado en reglas dentro de los documentos. a continuación se explica el procedimiento.\n",
    "\n",
    "- crear un objeto Matcher con el vocab del documento\n",
    "- crear un diccionario con el patron de busqueda\n",
    "- agregar el o los patrones de busqueda al matcher\n",
    "- usar el objeto matcher para buscar las coincidencias "
   ]
  },
  {
   "cell_type": "code",
   "execution_count": 109,
   "metadata": {},
   "outputs": [],
   "source": [
    "from spacy.matcher import Matcher\n",
    "\n",
    "#vamos a crear un objeto matcher por cada documento\n",
    "\n",
    "mth_petro = Matcher(doc_petro.vocab)\n",
    "mth_fajardo = Matcher(doc_fajardo.vocab)\n",
    "mth_rodolfo = Matcher(doc_rodolfo.vocab)\n",
    "\n",
    "#creamos los patrones de busqueda de interes\n",
    "\n",
    "ptt_ref_tributaria = [{'TEXT':'reforma'}, \n",
    "                      {'TEXT':'tributaria'}]\n",
    "\n",
    "ptt_ref_pensional = [{'TEXT':'reforma'}, \n",
    "                      {'TEXT':'pensional'}]\n",
    "\n",
    "ptt_ref_policial = [{'TEXT':'reforma'}, \n",
    "                      {'TEXT':'policial'}]\n",
    "\n",
    "ptt_ref_salud    = [{'TEXT':'reforma'}, \n",
    "                    {'TEXT':'salud'}]\n",
    "\n",
    "ptt_paz    = [{'TEXT':'paz'}]\n",
    "\n",
    "ptt_choco =  [{'TEXT':'chocó'}]\n",
    "\n",
    "mth_petro.add('reformas', [ptt_ref_tributaria, \n",
    "                           ptt_ref_pensional,\n",
    "                           ptt_ref_policial,\n",
    "                           ptt_choco, \n",
    "                           ptt_paz])\n",
    "\n",
    "mth_fajardo.add('reformas', [ptt_ref_tributaria, \n",
    "                             ptt_ref_pensional,\n",
    "                             ptt_ref_policial,\n",
    "                             ptt_choco,\n",
    "                             ptt_paz])\n",
    "\n",
    "mth_rodolfo.add('reformas', [ptt_ref_tributaria, \n",
    "                             ptt_ref_pensional,\n",
    "                             ptt_ref_policial,\n",
    "                             ptt_choco,\n",
    "                             ptt_paz])\n",
    "\n",
    "#Ahora buscamos las coincidencias dentro de cada documento\n",
    "\n",
    "matches_petro = mth_petro(doc_petro)\n",
    "matches_fajardo = mth_petro(doc_fajardo)\n",
    "matches_rodolfo = mth_petro(doc_rodolfo)\n"
   ]
  },
  {
   "cell_type": "code",
   "execution_count": 110,
   "metadata": {},
   "outputs": [
    {
     "name": "stdout",
     "output_type": "stream",
     "text": [
      "13007791884884920679 reformas 55 56 paz\n",
      "13007791884884920679 reformas 278 279 paz\n",
      "13007791884884920679 reformas 305 306 paz\n",
      "13007791884884920679 reformas 469 470 paz\n",
      "13007791884884920679 reformas 481 482 paz\n",
      "13007791884884920679 reformas 491 492 paz\n",
      "13007791884884920679 reformas 503 504 paz\n",
      "13007791884884920679 reformas 574 575 paz\n",
      "13007791884884920679 reformas 660 661 paz\n",
      "13007791884884920679 reformas 1150 1151 chocó\n",
      "13007791884884920679 reformas 1271 1272 paz\n",
      "13007791884884920679 reformas 1342 1343 paz\n",
      "13007791884884920679 reformas 1688 1689 paz\n",
      "13007791884884920679 reformas 1729 1730 paz\n",
      "13007791884884920679 reformas 1790 1791 paz\n",
      "13007791884884920679 reformas 2782 2783 paz\n",
      "13007791884884920679 reformas 2838 2839 paz\n",
      "13007791884884920679 reformas 6142 6143 paz\n",
      "13007791884884920679 reformas 6230 6231 paz\n",
      "13007791884884920679 reformas 6692 6693 paz\n",
      "13007791884884920679 reformas 11625 11626 paz\n",
      "13007791884884920679 reformas 12038 12039 paz\n",
      "13007791884884920679 reformas 12264 12265 paz\n",
      "13007791884884920679 reformas 12384 12385 paz\n",
      "13007791884884920679 reformas 13223 13224 paz\n",
      "13007791884884920679 reformas 13360 13361 paz\n",
      "13007791884884920679 reformas 13443 13444 paz\n",
      "13007791884884920679 reformas 14234 14235 paz\n",
      "13007791884884920679 reformas 14605 14606 paz\n",
      "13007791884884920679 reformas 14787 14788 paz\n",
      "13007791884884920679 reformas 15296 15297 paz\n",
      "13007791884884920679 reformas 15663 15665 reforma pensional\n",
      "13007791884884920679 reformas 15724 15725 paz\n",
      "13007791884884920679 reformas 18460 18462 reforma pensional\n",
      "13007791884884920679 reformas 20184 20186 reforma tributaria\n",
      "13007791884884920679 reformas 20197 20199 reforma pensional\n",
      "13007791884884920679 reformas 20577 20578 paz\n",
      "13007791884884920679 reformas 20614 20615 paz\n",
      "13007791884884920679 reformas 20652 20653 paz\n",
      "13007791884884920679 reformas 20671 20672 paz\n",
      "13007791884884920679 reformas 20979 20980 paz\n",
      "13007791884884920679 reformas 21990 21991 paz\n",
      "13007791884884920679 reformas 22025 22026 paz\n",
      "13007791884884920679 reformas 22478 22479 paz\n",
      "13007791884884920679 reformas 22629 22630 paz\n",
      "13007791884884920679 reformas 22679 22680 paz\n",
      "13007791884884920679 reformas 22751 22752 paz\n",
      "13007791884884920679 reformas 23325 23326 paz\n",
      "13007791884884920679 reformas 23349 23350 paz\n",
      "13007791884884920679 reformas 23354 23355 paz\n",
      "13007791884884920679 reformas 23368 23369 paz\n",
      "13007791884884920679 reformas 23372 23373 paz\n",
      "13007791884884920679 reformas 23388 23389 paz\n",
      "13007791884884920679 reformas 23467 23468 paz\n",
      "13007791884884920679 reformas 23490 23491 paz\n",
      "13007791884884920679 reformas 23825 23826 paz\n",
      "13007791884884920679 reformas 23884 23885 paz\n",
      "13007791884884920679 reformas 23923 23924 paz\n",
      "13007791884884920679 reformas 24050 24051 paz\n",
      "13007791884884920679 reformas 24058 24059 paz\n",
      "13007791884884920679 reformas 24071 24072 paz\n",
      "13007791884884920679 reformas 24081 24082 paz\n",
      "13007791884884920679 reformas 24119 24120 paz\n",
      "13007791884884920679 reformas 24145 24146 paz\n",
      "13007791884884920679 reformas 24155 24156 paz\n",
      "13007791884884920679 reformas 24203 24204 paz\n",
      "13007791884884920679 reformas 24208 24209 paz\n",
      "13007791884884920679 reformas 24302 24303 paz\n"
     ]
    }
   ],
   "source": [
    "#Resultados de coincidencia para petro\n",
    "for match_id, start, end in matches_petro:\n",
    "    string_id = doc_petro.vocab.strings[match_id]\n",
    "    span = doc_petro[start:end]\n",
    "    \n",
    "    print(match_id, string_id, start, end, span.text)"
   ]
  },
  {
   "cell_type": "code",
   "execution_count": 111,
   "metadata": {},
   "outputs": [
    {
     "name": "stdout",
     "output_type": "stream",
     "text": [
      "13007791884884920679 reformas 81 82 paz\n",
      "13007791884884920679 reformas 144 145 paz\n",
      "13007791884884920679 reformas 651 652 paz\n",
      "13007791884884920679 reformas 6610 6612 reforma pensional\n",
      "13007791884884920679 reformas 7028 7030 reforma tributaria\n",
      "13007791884884920679 reformas 8333 8334 paz\n",
      "13007791884884920679 reformas 8339 8340 paz\n",
      "13007791884884920679 reformas 8440 8441 paz\n",
      "13007791884884920679 reformas 8486 8487 paz\n",
      "13007791884884920679 reformas 8543 8544 paz\n",
      "13007791884884920679 reformas 8553 8554 paz\n",
      "13007791884884920679 reformas 8972 8973 paz\n",
      "13007791884884920679 reformas 13583 13584 paz\n",
      "13007791884884920679 reformas 13612 13613 paz\n",
      "13007791884884920679 reformas 13877 13878 paz\n",
      "13007791884884920679 reformas 13891 13892 chocó\n",
      "13007791884884920679 reformas 15419 15420 paz\n",
      "13007791884884920679 reformas 16407 16408 paz\n",
      "13007791884884920679 reformas 16410 16411 paz\n",
      "13007791884884920679 reformas 16417 16418 paz\n",
      "13007791884884920679 reformas 16425 16426 paz\n",
      "13007791884884920679 reformas 16461 16462 paz\n",
      "13007791884884920679 reformas 16479 16480 paz\n",
      "13007791884884920679 reformas 16728 16729 paz\n",
      "13007791884884920679 reformas 18314 18315 paz\n"
     ]
    }
   ],
   "source": [
    "#Resultados de coincidencia para fajardo\n",
    "for match_id, start, end in matches_fajardo:\n",
    "    string_id = doc_fajardo.vocab.strings[match_id]\n",
    "    span = doc_fajardo[start:end]\n",
    "    \n",
    "    print(match_id, string_id, start, end, span.text)"
   ]
  },
  {
   "cell_type": "code",
   "execution_count": 112,
   "metadata": {},
   "outputs": [
    {
     "name": "stdout",
     "output_type": "stream",
     "text": [
      "13007791884884920679 reformas 81 82 paz\n",
      "13007791884884920679 reformas 221 222 paz\n",
      "13007791884884920679 reformas 234 235 paz\n",
      "13007791884884920679 reformas 558 559 paz\n",
      "13007791884884920679 reformas 815 816 paz\n",
      "13007791884884920679 reformas 6040 6041 paz\n",
      "13007791884884920679 reformas 6268 6269 paz\n",
      "13007791884884920679 reformas 11876 11877 paz\n",
      "13007791884884920679 reformas 22405 22406 paz\n",
      "13007791884884920679 reformas 22630 22631 paz\n",
      "13007791884884920679 reformas 23930 23931 paz\n",
      "13007791884884920679 reformas 24237 24238 paz\n",
      "13007791884884920679 reformas 25843 25844 paz\n",
      "13007791884884920679 reformas 28922 28924 reforma tributaria\n",
      "13007791884884920679 reformas 29184 29186 reforma pensional\n"
     ]
    }
   ],
   "source": [
    "#Resultados de coincidencia para petro\n",
    "for match_id, start, end in matches_rodolfo:\n",
    "    string_id = doc_rodolfo.vocab.strings[match_id]\n",
    "    span = doc_rodolfo[start:end]\n",
    "    \n",
    "    print(match_id, string_id, start, end, span.text)"
   ]
  },
  {
   "cell_type": "markdown",
   "metadata": {},
   "source": [
    "### Comparación de documentos\n",
    "\n",
    "Ahora probaremos la funcionalidad de comparación de similutd de documentos que ofrece spacy"
   ]
  },
  {
   "cell_type": "code",
   "execution_count": 108,
   "metadata": {},
   "outputs": [
    {
     "name": "stdout",
     "output_type": "stream",
     "text": [
      "0.9683489454855204\n"
     ]
    }
   ],
   "source": [
    "print(doc_petro.similarity(doc_rodolfo))"
   ]
  }
 ],
 "metadata": {
  "interpreter": {
   "hash": "b0fa6594d8f4cbf19f97940f81e996739fb7646882a419484c72d19e05852a7e"
  },
  "kernelspec": {
   "display_name": "Python 3.9.12 64-bit",
   "language": "python",
   "name": "python3"
  },
  "language_info": {
   "codemirror_mode": {
    "name": "ipython",
    "version": 3
   },
   "file_extension": ".py",
   "mimetype": "text/x-python",
   "name": "python",
   "nbconvert_exporter": "python",
   "pygments_lexer": "ipython3",
   "version": "3.9.12"
  },
  "orig_nbformat": 4
 },
 "nbformat": 4,
 "nbformat_minor": 2
}
