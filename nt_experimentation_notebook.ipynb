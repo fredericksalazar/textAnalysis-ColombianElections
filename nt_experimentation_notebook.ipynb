{
 "cells": [
  {
   "cell_type": "markdown",
   "metadata": {},
   "source": [
    "# Experimentación con ScikitLearn\n",
    "\n",
    "Vamos a realizar un proceso de aprendizaje y experimentación con la libreria ScikitLearn. (basado en el curso NLP modelos y algoritmos de la universidad Austral)\n",
    "\n",
    "en este caso vamos a practicar lo aprendido en cada modulo del curso."
   ]
  },
  {
   "cell_type": "code",
   "execution_count": 43,
   "metadata": {},
   "outputs": [],
   "source": [
    "\n",
    "import re\n",
    "from nltk.corpus import stopwords\n",
    "from nltk import word_tokenize\n",
    "from sklearn.feature_extraction.text import CountVectorizer\n",
    "\n",
    "import matplotlib.pyplot as plt\n",
    "import seaborn as sns\n",
    "import spacy\n",
    "import pandas as pd\n",
    "\n",
    "nlp = spacy.load('es_core_news_lg')"
   ]
  },
  {
   "cell_type": "code",
   "execution_count": 4,
   "metadata": {},
   "outputs": [],
   "source": [
    "def leer_texto(path_archivo):\n",
    "    \n",
    "    \"\"\"obtiene un string con el texto completro de un archivo\n",
    "\n",
    "    Returns:\n",
    "        _string_: \n",
    "        string: texto de un archivos\n",
    "    \"\"\"\n",
    "\n",
    "    text = ''\n",
    "    \n",
    "    archivo = open(path_archivo, 'r', encoding='utf8')\n",
    "\n",
    "    while(True):\n",
    "        linea = archivo.readline()\n",
    "        text = text+linea\n",
    "        if not linea:\n",
    "            break\n",
    "    \n",
    "    archivo.close\n",
    "    \n",
    "    return text"
   ]
  },
  {
   "cell_type": "code",
   "execution_count": 5,
   "metadata": {},
   "outputs": [],
   "source": [
    "#importamos los archivos con los que vamos a trabajar\n",
    "\n",
    "path_petro = './archivos/petro_clean.pdf.txt'\n",
    "path_fajardo = './archivos/fajardo_clean.pdf.txt'\n",
    "path_rodolfo = './archivos/rodolfo_clean.pdf.txt'\n",
    "\n",
    "texto_petro = leer_texto(path_petro)\n",
    "texto_fajardo = leer_texto(path_fajardo)\n",
    "texto_rodolfo = leer_texto(path_rodolfo)"
   ]
  },
  {
   "cell_type": "code",
   "execution_count": 6,
   "metadata": {},
   "outputs": [],
   "source": [
    "#Creamos el corpus de nuestro proceso\n",
    "corpus =[texto_petro,\n",
    "         texto_fajardo,\n",
    "         texto_rodolfo]"
   ]
  },
  {
   "cell_type": "code",
   "execution_count": 7,
   "metadata": {},
   "outputs": [],
   "source": [
    "#crea el count vectorizer\n",
    "\n",
    "count_vectorizer = CountVectorizer(analyzer='word',\n",
    "                                   decode_error='ignore',\n",
    "                                   encoding='str',\n",
    "                                   lowercase=True,\n",
    "                                   stop_words=stopwords.words('spanish'),\n",
    "                                   strip_accents='ascii',\n",
    "                                   min_df=2,\n",
    "                                   max_features=40)"
   ]
  },
  {
   "cell_type": "code",
   "execution_count": 8,
   "metadata": {},
   "outputs": [
    {
     "name": "stderr",
     "output_type": "stream",
     "text": [
      "/opt/homebrew/lib/python3.9/site-packages/sklearn/feature_extraction/text.py:396: UserWarning: Your stop_words may be inconsistent with your preprocessing. Tokenizing the stop words generated tokens ['eramos', 'estabamos', 'estais', 'estan', 'estara', 'estaran', 'estaras', 'estare', 'estareis', 'estaria', 'estariais', 'estariamos', 'estarian', 'estarias', 'esteis', 'esten', 'estes', 'estuvieramos', 'estuviesemos', 'fueramos', 'fuesemos', 'habeis', 'habia', 'habiais', 'habiamos', 'habian', 'habias', 'habra', 'habran', 'habras', 'habre', 'habreis', 'habria', 'habriais', 'habriamos', 'habrian', 'habrias', 'hayais', 'hubieramos', 'hubiesemos', 'mas', 'mia', 'mias', 'mio', 'mios', 'seais', 'sera', 'seran', 'seras', 'sere', 'sereis', 'seria', 'seriais', 'seriamos', 'serian', 'serias', 'si', 'tambien', 'tendra', 'tendran', 'tendras', 'tendre', 'tendreis', 'tendria', 'tendriais', 'tendriamos', 'tendrian', 'tendrias', 'teneis', 'tengais', 'tenia', 'teniais', 'teniamos', 'tenian', 'tenias', 'tuvieramos', 'tuviesemos'] not in stop_words.\n",
      "  warnings.warn(\n"
     ]
    }
   ],
   "source": [
    "\n",
    "data_vectorized = count_vectorizer.fit_transform(corpus)\n"
   ]
  },
  {
   "cell_type": "code",
   "execution_count": 9,
   "metadata": {},
   "outputs": [
    {
     "name": "stderr",
     "output_type": "stream",
     "text": [
      "/opt/homebrew/lib/python3.9/site-packages/sklearn/utils/deprecation.py:87: FutureWarning: Function get_feature_names is deprecated; get_feature_names is deprecated in 1.0 and will be removed in 1.2. Please use get_feature_names_out instead.\n",
      "  warnings.warn(msg, category=FutureWarning)\n"
     ]
    }
   ],
   "source": [
    "data_dtm = pd.DataFrame(data_vectorized.toarray(), columns=count_vectorizer.get_feature_names())"
   ]
  },
  {
   "cell_type": "code",
   "execution_count": 10,
   "metadata": {},
   "outputs": [
    {
     "data": {
      "text/html": [
       "<div>\n",
       "<style scoped>\n",
       "    .dataframe tbody tr th:only-of-type {\n",
       "        vertical-align: middle;\n",
       "    }\n",
       "\n",
       "    .dataframe tbody tr th {\n",
       "        vertical-align: top;\n",
       "    }\n",
       "\n",
       "    .dataframe thead th {\n",
       "        text-align: right;\n",
       "    }\n",
       "</style>\n",
       "<table border=\"1\" class=\"dataframe\">\n",
       "  <thead>\n",
       "    <tr style=\"text-align: right;\">\n",
       "      <th></th>\n",
       "      <th>acceso</th>\n",
       "      <th>asi</th>\n",
       "      <th>calidad</th>\n",
       "      <th>cambio</th>\n",
       "      <th>colombia</th>\n",
       "      <th>condiciones</th>\n",
       "      <th>debe</th>\n",
       "      <th>derechos</th>\n",
       "      <th>desarrollo</th>\n",
       "      <th>economia</th>\n",
       "      <th>...</th>\n",
       "      <th>salud</th>\n",
       "      <th>sector</th>\n",
       "      <th>ser</th>\n",
       "      <th>sera</th>\n",
       "      <th>servicios</th>\n",
       "      <th>sistema</th>\n",
       "      <th>social</th>\n",
       "      <th>trabajo</th>\n",
       "      <th>traves</th>\n",
       "      <th>vida</th>\n",
       "    </tr>\n",
       "  </thead>\n",
       "  <tbody>\n",
       "    <tr>\n",
       "      <th>0</th>\n",
       "      <td>52</td>\n",
       "      <td>45</td>\n",
       "      <td>29</td>\n",
       "      <td>43</td>\n",
       "      <td>61</td>\n",
       "      <td>43</td>\n",
       "      <td>11</td>\n",
       "      <td>68</td>\n",
       "      <td>34</td>\n",
       "      <td>87</td>\n",
       "      <td>...</td>\n",
       "      <td>71</td>\n",
       "      <td>22</td>\n",
       "      <td>16</td>\n",
       "      <td>54</td>\n",
       "      <td>30</td>\n",
       "      <td>92</td>\n",
       "      <td>63</td>\n",
       "      <td>59</td>\n",
       "      <td>31</td>\n",
       "      <td>108</td>\n",
       "    </tr>\n",
       "    <tr>\n",
       "      <th>1</th>\n",
       "      <td>11</td>\n",
       "      <td>8</td>\n",
       "      <td>16</td>\n",
       "      <td>21</td>\n",
       "      <td>33</td>\n",
       "      <td>6</td>\n",
       "      <td>7</td>\n",
       "      <td>16</td>\n",
       "      <td>38</td>\n",
       "      <td>4</td>\n",
       "      <td>...</td>\n",
       "      <td>22</td>\n",
       "      <td>25</td>\n",
       "      <td>6</td>\n",
       "      <td>10</td>\n",
       "      <td>18</td>\n",
       "      <td>22</td>\n",
       "      <td>16</td>\n",
       "      <td>14</td>\n",
       "      <td>19</td>\n",
       "      <td>14</td>\n",
       "    </tr>\n",
       "    <tr>\n",
       "      <th>2</th>\n",
       "      <td>28</td>\n",
       "      <td>32</td>\n",
       "      <td>46</td>\n",
       "      <td>17</td>\n",
       "      <td>116</td>\n",
       "      <td>32</td>\n",
       "      <td>69</td>\n",
       "      <td>19</td>\n",
       "      <td>71</td>\n",
       "      <td>17</td>\n",
       "      <td>...</td>\n",
       "      <td>51</td>\n",
       "      <td>56</td>\n",
       "      <td>58</td>\n",
       "      <td>17</td>\n",
       "      <td>43</td>\n",
       "      <td>52</td>\n",
       "      <td>52</td>\n",
       "      <td>35</td>\n",
       "      <td>38</td>\n",
       "      <td>40</td>\n",
       "    </tr>\n",
       "  </tbody>\n",
       "</table>\n",
       "<p>3 rows × 40 columns</p>\n",
       "</div>"
      ],
      "text/plain": [
       "   acceso  asi  calidad  cambio  colombia  condiciones  debe  derechos  \\\n",
       "0      52   45       29      43        61           43    11        68   \n",
       "1      11    8       16      21        33            6     7        16   \n",
       "2      28   32       46      17       116           32    69        19   \n",
       "\n",
       "   desarrollo  economia  ...  salud  sector  ser  sera  servicios  sistema  \\\n",
       "0          34        87  ...     71      22   16    54         30       92   \n",
       "1          38         4  ...     22      25    6    10         18       22   \n",
       "2          71        17  ...     51      56   58    17         43       52   \n",
       "\n",
       "   social  trabajo  traves  vida  \n",
       "0      63       59      31   108  \n",
       "1      16       14      19    14  \n",
       "2      52       35      38    40  \n",
       "\n",
       "[3 rows x 40 columns]"
      ]
     },
     "execution_count": 10,
     "metadata": {},
     "output_type": "execute_result"
    }
   ],
   "source": [
    "data_dtm"
   ]
  },
  {
   "cell_type": "code",
   "execution_count": 11,
   "metadata": {},
   "outputs": [
    {
     "data": {
      "text/plain": [
       "<AxesSubplot:>"
      ]
     },
     "execution_count": 11,
     "metadata": {},
     "output_type": "execute_result"
    },
    {
     "data": {
      "image/png": "[encoded data removed]",
      "text/plain": [
       "<Figure size 1080x936 with 2 Axes>"
      ]
     },
     "metadata": {
      "needs_background": "light"
     },
     "output_type": "display_data"
    }
   ],
   "source": [
    "plt.figure(figsize=(15,13))\n",
    "sns.heatmap(data_dtm.transpose(),\n",
    "            annot=True,\n",
    "            cmap=\"Blues\", \n",
    "            fmt=\"d\")\n"
   ]
  },
  {
   "cell_type": "markdown",
   "metadata": {},
   "source": [
    "# Experimentación con Spacy\n",
    "\n",
    "vamos a experimentar con la libreria de NLP Spacy que ofrece metodos avanzados para el procesamiento de documentos."
   ]
  },
  {
   "cell_type": "code",
   "execution_count": 19,
   "metadata": {},
   "outputs": [],
   "source": [
    "from spacy.lang.es import Spanish\n",
    "import spacy\n",
    "\n",
    "lis_ents_petro =[]\n",
    "\n",
    "nlp = spacy.load('es_core_news_lg')\n",
    "\n",
    "petro_txt = leer_texto('./archivos/petro_clean.pdf.txt')\n",
    "fajardo_txt = leer_texto('./archivos/fajardo_clean.pdf.txt')\n",
    "rodolfo_txt = leer_texto('./archivos/rodolfo_clean.pdf.txt')\n",
    "federico_txt = leer_texto('./archivos/federico_clean.pdf.txt')\n",
    "\n",
    "#Creamos los objetos Doc de cada uno de los archivos de planes de gobierno\n",
    "doc_petro = nlp(petro_txt)\n",
    "doc_fajardo = nlp(fajardo_txt)\n",
    "doc_rodolfo = nlp(rodolfo_txt)\n",
    "doc_federico = nlp(federico_txt)"
   ]
  },
  {
   "cell_type": "markdown",
   "metadata": {},
   "source": [
    "# Busqueda con spacy\n",
    "\n",
    "Se puede usar spacy para buscar contenido basado en reglas dentro de los documentos. a continuación se explica el procedimiento.\n",
    "\n",
    "- crear un objeto Matcher con el vocab del documento\n",
    "- crear un diccionario con el patron de busqueda\n",
    "- agregar el o los patrones de busqueda al matcher\n",
    "- usar el objeto matcher para buscar las coincidencias "
   ]
  },
  {
   "cell_type": "code",
   "execution_count": 21,
   "metadata": {},
   "outputs": [],
   "source": [
    "from spacy.matcher import Matcher\n",
    "\n",
    "#vamos a crear un objeto matcher por cada documento\n",
    "\n",
    "mth_petro = Matcher(doc_petro.vocab)\n",
    "mth_fajardo = Matcher(doc_fajardo.vocab)\n",
    "mth_rodolfo = Matcher(doc_rodolfo.vocab)\n",
    "mth_federico = Matcher(doc_federico.vocab)"
   ]
  },
  {
   "cell_type": "markdown",
   "metadata": {},
   "source": [
    "# patron Busqueda PAZ"
   ]
  },
  {
   "cell_type": "code",
   "execution_count": 36,
   "metadata": {},
   "outputs": [],
   "source": [
    "search_paz = [{'TEXT':'proceso', 'TEXT':'paz'}]\n",
    "\n",
    "#registramos los match dentro de cada matcher\n",
    "\n",
    "mth_petro.add('paz', [search_paz])\n",
    "mth_fajardo.add('paz', [search_paz])\n",
    "mth_rodolfo.add('paz', [search_paz])\n",
    "mth_federico.add('paz', [search_paz])\n",
    "\n",
    "#Ahora buscamos las coincidencias dentro de cada documento\n",
    "\n",
    "matches_petro = mth_petro(doc_petro)\n",
    "matches_fajardo = mth_petro(doc_fajardo)\n",
    "matches_rodolfo = mth_petro(doc_rodolfo)\n",
    "matches_federico = mth_federico(doc_federico)"
   ]
  },
  {
   "cell_type": "code",
   "execution_count": 50,
   "metadata": {},
   "outputs": [],
   "source": [
    "#Resultados de coincidencia para petro\n",
    "\n",
    "lista_paz_petro= []\n",
    "lista_paz_fajardo = []\n",
    "\n",
    "for match_id, start, end in matches_petro:\n",
    "    span = doc_petro[start-5:end+5]\n",
    "    lista_paz_petro.append(span.text)\n",
    "    \n",
    "for match_id, start, end in matches_fajardo:\n",
    "    span = doc_fajardo[start-5:end+5]\n",
    "    lista_paz_fajardo.append(span.text)"
   ]
  },
  {
   "cell_type": "code",
   "execution_count": 51,
   "metadata": {},
   "outputs": [
    {
     "data": {
      "text/plain": [
       "17"
      ]
     },
     "execution_count": 51,
     "metadata": {},
     "output_type": "execute_result"
    }
   ],
   "source": [
    "len(lista_paz_petro)\n",
    "len(lista_paz_fajardo)"
   ]
  },
  {
   "cell_type": "code",
   "execution_count": 29,
   "metadata": {},
   "outputs": [
    {
     "name": "stdout",
     "output_type": "stream",
     "text": [
      "5709026728910657924 paz 357 358 paz\n",
      "5709026728910657924 paz 5236 5237 paz\n",
      "5709026728910657924 paz 5296 5297 paz\n",
      "5709026728910657924 paz 5332 5333 paz\n",
      "5709026728910657924 paz 5371 5372 paz\n",
      "5709026728910657924 paz 5380 5381 paz\n",
      "5709026728910657924 paz 5645 5646 paz\n",
      "5709026728910657924 paz 8741 8742 paz\n",
      "5709026728910657924 paz 8766 8767 paz\n",
      "5709026728910657924 paz 8969 8970 paz\n",
      "5709026728910657924 paz 9980 9981 paz\n",
      "5709026728910657924 paz 10683 10684 paz\n",
      "5709026728910657924 paz 10688 10689 paz\n",
      "5709026728910657924 paz 10722 10723 paz\n",
      "5709026728910657924 paz 10738 10739 paz\n",
      "5709026728910657924 paz 10917 10918 paz\n",
      "5709026728910657924 paz 11993 11994 paz\n"
     ]
    }
   ],
   "source": [
    "#Resultados de coincidencia para fajardo\n",
    "for match_id, start, end in matches_fajardo:\n",
    "    string_id = doc_fajardo.vocab.strings[match_id]\n",
    "    span = doc_fajardo[start:end]\n",
    "    \n",
    "    print(match_id, string_id, start, end, span.text)"
   ]
  },
  {
   "cell_type": "code",
   "execution_count": 30,
   "metadata": {},
   "outputs": [
    {
     "name": "stdout",
     "output_type": "stream",
     "text": [
      "con colombiael camino hacia la paz reala educación salud enfoque preventivo\n",
      "de todos los colombianos 1la paz es una condición más allá\n",
      "ausencia del conflicto armado la paz es la efectiva dignidad en\n",
      "paíspreámbulou el camino hac ia paz re ales la hora de\n",
      "el pueblo esta es la paz real 1colombia como un estado\n",
      "como un derecho vivir en paz dignidad en alguna parte en\n",
      "del acuerdo final para una paz estable duradera firmado con las\n",
      "programa de justicia para una paz sostenible de usaid en colombia\n",
      "la firma del acuerdo de paz con las farc otra después\n",
      "la firma del acuerdo de paz se han vuelto presentar por\n",
      "la firma del acuerdo de paz en 2016pero no se trata\n",
      "estudios para el desarrollo la paz indepaz registra que las disidencias\n",
      "del eln al acuerdo de paz firmado con las farc basta\n"
     ]
    }
   ],
   "source": [
    "#Resultados de coincidencia para petro\n",
    "for match_id, start, end in matches_rodolfo:\n",
    "    string_id = doc_rodolfo.vocab.strings[match_id]\n",
    "    span = doc_rodolfo[start-5:end+5]\n",
    "    \n",
    "    print(span.text)"
   ]
  }
 ],
 "metadata": {
  "interpreter": {
   "hash": "b0fa6594d8f4cbf19f97940f81e996739fb7646882a419484c72d19e05852a7e"
  },
  "kernelspec": {
   "display_name": "Python 3.9.12 64-bit",
   "language": "python",
   "name": "python3"
  },
  "language_info": {
   "codemirror_mode": {
    "name": "ipython",
    "version": 3
   },
   "file_extension": ".py",
   "mimetype": "text/x-python",
   "name": "python",
   "nbconvert_exporter": "python",
   "pygments_lexer": "ipython3",
   "version": "3.9.13"
  },
  "orig_nbformat": 4
 },
 "nbformat": 4,
 "nbformat_minor": 2
}
