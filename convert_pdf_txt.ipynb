{
 "cells": [
  {
   "cell_type": "markdown",
   "metadata": {},
   "source": [
    "# Leer archivos PDF y convertir en texto\n",
    "\n",
    "Este modulo del programa se encarga de leer los archivos en formato PDF de las diferentes campañas y convertir ese contenido en texto."
   ]
  },
  {
   "cell_type": "code",
   "execution_count": 12,
   "metadata": {},
   "outputs": [],
   "source": [
    "from pdfminer.high_level import extract_text\n",
    "from pdfminer.pdfdocument import PDFDocument"
   ]
  },
  {
   "cell_type": "code",
   "execution_count": 13,
   "metadata": {},
   "outputs": [],
   "source": [
    "plan_petro = './archivos/petro.pdf'\n",
    "plan_fajardo = './archivos/fajardo.pdf'"
   ]
  },
  {
   "cell_type": "code",
   "execution_count": 14,
   "metadata": {},
   "outputs": [],
   "source": [
    "#Se lee el texto de cada uno de los pdf para extraer el texto y convertirlo en txt\n",
    "\n",
    "textoPetro = extract_text(plan_petro)\n",
    "textoFajardo = extract_text(plan_fajardo)\n",
    "\n",
    "pdf_petro = PDFDocument(textoPetro)\n",
    "pdf_petro.info\n",
    "\n",
    "#Guardamos el archivo txt de cada candidato\n",
    "fileText = open(plan_petro+'.txt', 'w')\n",
    "fileText.write(textoPetro)\n",
    "fileText.close()\n",
    "\n",
    "fileText = open(plan_fajardo+'.txt', 'w')\n",
    "fileText.write(textoFajardo)\n",
    "fileText.close()\n",
    "    \n"
   ]
  },
  {
   "cell_type": "markdown",
   "metadata": {},
   "source": [
    "# Limpieza de texto\n",
    "\n",
    "De acuerdo al contenido y estructura de cada uno de los archivos pdf convertidos a txt, procedemos a realizar una limpieza inicial para normalizar un poco los datos."
   ]
  },
  {
   "cell_type": "code",
   "execution_count": 17,
   "metadata": {},
   "outputs": [],
   "source": [
    "# se procesa archivo de petro\n",
    "\n",
    "pathArchivo = './archivos/petro.pdf.txt'\n",
    "\n",
    "archivo = open(pathArchivo, 'r')\n",
    "\n",
    "lineaMod = ''\n",
    "flag = False\n",
    "text = ''\n",
    "\n",
    "while(True):\n",
    "    linea = archivo.readline()\n",
    "    text = text+linea\n",
    "    if not linea:\n",
    "        break\n",
    "    \n",
    "text = text.replace('-', '\\n')\n",
    "text = text.replace('\\n', '')\n",
    "\n",
    "archivo.close\n",
    "\n",
    "fileText = open('./archivos/petro.pdf.txt', 'w')\n",
    "fileText.write(text)\n",
    "fileText.close()\n",
    "\n"
   ]
  },
  {
   "cell_type": "code",
   "execution_count": 18,
   "metadata": {},
   "outputs": [],
   "source": [
    "#Se procesa archivo de fajardo\n",
    "\n",
    "pathArchivo = './archivos/fajardo.pdf.txt'\n",
    "\n",
    "archivo = open(pathArchivo, 'r')\n",
    "\n",
    "lineaMod = ''\n",
    "flag = False\n",
    "text = ''\n",
    "\n",
    "while(True):\n",
    "    linea = archivo.readline()\n",
    "    text = text+linea\n",
    "    if not linea:\n",
    "        break\n",
    "\n",
    "\n",
    "text = text.replace('-', '\\n')\n",
    "text = text.replace('\\n', ' ')\n",
    "\n",
    "fileText = open('./archivos/fajardo.pdf.txt', 'w')\n",
    "fileText.write(text)\n",
    "fileText.close()\n",
    "\n"
   ]
  }
 ],
 "metadata": {
  "interpreter": {
   "hash": "b0fa6594d8f4cbf19f97940f81e996739fb7646882a419484c72d19e05852a7e"
  },
  "kernelspec": {
   "display_name": "Python 3.9.12 64-bit",
   "language": "python",
   "name": "python3"
  },
  "language_info": {
   "codemirror_mode": {
    "name": "ipython",
    "version": 3
   },
   "file_extension": ".py",
   "mimetype": "text/x-python",
   "name": "python",
   "nbconvert_exporter": "python",
   "pygments_lexer": "ipython3",
   "version": "3.9.12"
  },
  "orig_nbformat": 4
 },
 "nbformat": 4,
 "nbformat_minor": 2
}
