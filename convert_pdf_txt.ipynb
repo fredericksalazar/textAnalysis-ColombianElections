{
 "cells": [
  {
   "cell_type": "markdown",
   "metadata": {},
   "source": [
    "# Leer archivos PDF y convertir en texto\n",
    "\n",
    "Este modulo del programa se encarga de leer los archivos en formato PDF de las diferentes campañas y convertir ese contenido en texto."
   ]
  },
  {
   "cell_type": "code",
   "execution_count": 36,
   "metadata": {},
   "outputs": [],
   "source": [
    "from pdfminer.high_level import extract_text"
   ]
  },
  {
   "cell_type": "code",
   "execution_count": 37,
   "metadata": {},
   "outputs": [],
   "source": [
    "plan_petro = './archivos/petro.pdf'"
   ]
  },
  {
   "cell_type": "code",
   "execution_count": 38,
   "metadata": {},
   "outputs": [],
   "source": [
    "\n",
    "textoArchivo = extract_text(plan_petro)\n",
    "\n",
    "fileText = open(plan_petro+'.txt', 'w')\n",
    "fileText.write(textoArchivo)\n",
    "fileText.close()\n",
    "    \n"
   ]
  },
  {
   "cell_type": "markdown",
   "metadata": {},
   "source": [
    "# Limpieza de texto"
   ]
  },
  {
   "cell_type": "code",
   "execution_count": 50,
   "metadata": {},
   "outputs": [],
   "source": [
    "pathArchivo = './archivos/petro.pdf.txt'\n",
    "\n",
    "archivo = open(pathArchivo, 'r')\n",
    "\n",
    "lineaMod = ''\n",
    "flag = False\n",
    "text = ''\n",
    "\n",
    "while(True):\n",
    "    linea = archivo.readline()\n",
    "    text = text+linea\n",
    "    if not linea:\n",
    "        break\n",
    "    \n",
    "text = text.replace('-', '\\n')\n",
    "text = text.replace('\\n', '')\n",
    "\n",
    "archivo.close\n",
    "\n",
    "fileText = open('./archivos/procesado_petro.txt', 'w')\n",
    "fileText.write(text)\n",
    "fileText.close()\n",
    "\n"
   ]
  }
 ],
 "metadata": {
  "interpreter": {
   "hash": "b0fa6594d8f4cbf19f97940f81e996739fb7646882a419484c72d19e05852a7e"
  },
  "kernelspec": {
   "display_name": "Python 3.9.12 64-bit",
   "language": "python",
   "name": "python3"
  },
  "language_info": {
   "codemirror_mode": {
    "name": "ipython",
    "version": 3
   },
   "file_extension": ".py",
   "mimetype": "text/x-python",
   "name": "python",
   "nbconvert_exporter": "python",
   "pygments_lexer": "ipython3",
   "version": "3.9.12"
  },
  "orig_nbformat": 4
 },
 "nbformat": 4,
 "nbformat_minor": 2
}
