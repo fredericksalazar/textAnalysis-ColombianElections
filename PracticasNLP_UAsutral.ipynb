{
 "cells": [
  {
   "cell_type": "markdown",
   "metadata": {},
   "source": [
    "# Experimentación con ScikitLearn\n",
    "\n",
    "Vamos a realizar un proceso de aprendizaje y experimentación con la libreria ScikitLearn. (basado en el curso NLP modelos y algoritmos de la universidad Austral)\n",
    "\n",
    "en este caso vamos a practicar lo aprendido en cada modulo del curso."
   ]
  },
  {
   "cell_type": "code",
   "execution_count": 46,
   "metadata": {},
   "outputs": [],
   "source": [
    "\n",
    "from nltk.corpus import stopwords\n",
    "from nltk import word_tokenize\n",
    "from sklearn.feature_extraction.text import CountVectorizer\n",
    "from pattern.es import lemma\n",
    "\n",
    "\n",
    "def leer_texto(archivo):\n",
    "    \n",
    "    \"\"\"obtiene un string con el texto completro de un archivo\n",
    "\n",
    "    Returns:\n",
    "        _string_: \n",
    "        string: texto de un archivos\n",
    "    \"\"\"\n",
    "\n",
    "    text = ''\n",
    "\n",
    "    while(True):\n",
    "        linea = archivo.readline()\n",
    "        text = text+linea\n",
    "        if not linea:\n",
    "            break\n",
    "    \n",
    "    archivo.close\n",
    "    \n",
    "    return text\n",
    "\n",
    "def depurar_texto(token_texto):\n",
    "    \"\"\"A partir de una lista de tokens con cadenas de texto\n",
    "       crea un nuevo texto solo con aquellos tokens de caracteres\n",
    "       para ello se aplica la validación isalpha()\n",
    "\n",
    "    Args:\n",
    "        token_texto (_list_): lista de tokens con palabras\n",
    "\n",
    "    Returns:\n",
    "        string: texto depurado solo con caracteres validos.\n",
    "    \"\"\"\n",
    "    \n",
    "    texto_depurado = ''\n",
    "    for palabra in token_texto:\n",
    "        if palabra.isalpha():\n",
    "            if len(palabra) > 2:\n",
    "                texto_depurado = texto_depurado+' '+palabra\n",
    "    \n",
    "    return texto_depurado\n"
   ]
  },
  {
   "cell_type": "code",
   "execution_count": 20,
   "metadata": {},
   "outputs": [],
   "source": [
    "#importamos los archivos con los que vamos a trabajar\n",
    "\n",
    "path_petro = './archivos/petro.pdf.txt'\n",
    "path_fajardo = './archivos/fajardo.pdf.txt'\n",
    "path_rodolfo = './archivos/rodolfo.pdf.txt'\n",
    "\n",
    "archivo_petro = open(path_petro, 'r', encoding='utf8')\n",
    "archivo_fajardo = open(path_fajardo, 'r', encoding='utf8')\n",
    "archivo_rodolfo = open(path_rodolfo, 'r', encoding='utf8')\n",
    "\n",
    "texto_petro = leer_texto(archivo_petro)\n",
    "texto_fajardo = leer_texto(archivo_fajardo)\n",
    "texto_rodolfo = leer_texto(archivo_rodolfo)"
   ]
  },
  {
   "cell_type": "code",
   "execution_count": 47,
   "metadata": {},
   "outputs": [],
   "source": [
    "#Creamos el corpus de nuestro proceso\n",
    "corpus =[\"Nadie está por encima de la ley!\", \n",
    "         \"A la juventud colombiana hoy le queda claro que el petrismo y sus líderes los usaron vilmente para hacer política en el paro nacional y hoy los tildan de uribistas por salir a marchar. Hasta les dieron cascos para atizar la confrontación. Hoy ya no les sirven, “les quitan votos”.\",\n",
    "         \"Recibí un comentario muy fuerte, en el que me juzgaban por estar con el Icetex y haber viajado a NY hace poco. Odio jactarme de lo que tengo, pero, el Icetex llegó a mi vida mucho antes de lo que llegó mi emprendimiento. Lo que tengo hoy y lo que soy hoy, se lo debo a inchielis\"]\n"
   ]
  },
  {
   "cell_type": "code",
   "execution_count": 40,
   "metadata": {},
   "outputs": [],
   "source": [
    "#crea el count vectorizer\n",
    "\n",
    "count_vectorizer = CountVectorizer(analyzer='word',\n",
    "                                   decode_error='ignore',\n",
    "                                   encoding='str',\n",
    "                                   lowercase=True,\n",
    "                                   stop_words=stopwords.words('spanish'),\n",
    "                                   strip_accents='ascii',\n",
    "                                   tokenizer= [lemma(t) for t in word_tokenize(corpus) if(t not in stopwords.words('spanish'))])"
   ]
  },
  {
   "cell_type": "code",
   "execution_count": 59,
   "metadata": {},
   "outputs": [
    {
     "data": {
      "text/plain": [
       "array(['atizar', 'cascos', 'claro', 'colombiana', 'comentario',\n",
       "       'confrontacion', 'debo', 'dieron', 'emprendimiento', 'encima',\n",
       "       'fuerte', 'haber', 'hace', 'hacer', 'hoy', 'icetex', 'inchielis',\n",
       "       'jactarme', 'juventud', 'juzgaban', 'ley', 'lideres', 'llego',\n",
       "       'marchar', 'nacional', 'nadie', 'ny', 'odio', 'paro', 'petrismo',\n",
       "       'politica', 'queda', 'quitan', 'recibi', 'salir', 'sirven',\n",
       "       'tildan', 'uribistas', 'usaron', 'viajado', 'vida', 'vilmente',\n",
       "       'votos'], dtype=object)"
      ]
     },
     "execution_count": 59,
     "metadata": {},
     "output_type": "execute_result"
    }
   ],
   "source": [
    "\n",
    "count_vectorizer = CountVectorizer(analyzer='word',\n",
    "                                   decode_error='ignore',\n",
    "                                   encoding='str',\n",
    "                                   lowercase=True,\n",
    "                                   stop_words=stopwords.words('spanish'),\n",
    "                                   strip_accents='ascii')\n",
    "\n",
    "data_vectorized = count_vectorizer.fit_transform(corpus)\n",
    "\n",
    "count_vectorizer.get_feature_names_out()"
   ]
  },
  {
   "cell_type": "code",
   "execution_count": 52,
   "metadata": {},
   "outputs": [
    {
     "data": {
      "text/plain": [
       "array([1, 1, 1, 1, 1, 1, 1, 1, 1, 2, 1, 1, 3, 1, 1, 1, 1, 2, 1, 1, 1, 2,\n",
       "       1, 1, 2, 1, 1, 1, 1, 1, 1, 1, 1, 1, 1, 3, 1, 1, 1, 1, 1, 1, 1, 1,\n",
       "       1, 1, 2, 2, 5, 3, 1, 1, 1, 1, 1, 1, 1, 1, 1, 1, 2, 1, 1, 1, 1, 1,\n",
       "       1, 1, 5, 2, 1, 2, 2, 1, 1, 1, 1, 1, 1, 1, 1])"
      ]
     },
     "execution_count": 52,
     "metadata": {},
     "output_type": "execute_result"
    }
   ],
   "source": [
    "data_vectorized."
   ]
  }
 ],
 "metadata": {
  "interpreter": {
   "hash": "b0fa6594d8f4cbf19f97940f81e996739fb7646882a419484c72d19e05852a7e"
  },
  "kernelspec": {
   "display_name": "Python 3.9.12 64-bit",
   "language": "python",
   "name": "python3"
  },
  "language_info": {
   "codemirror_mode": {
    "name": "ipython",
    "version": 3
   },
   "file_extension": ".py",
   "mimetype": "text/x-python",
   "name": "python",
   "nbconvert_exporter": "python",
   "pygments_lexer": "ipython3",
   "version": "3.9.12"
  },
  "orig_nbformat": 4
 },
 "nbformat": 4,
 "nbformat_minor": 2
}
