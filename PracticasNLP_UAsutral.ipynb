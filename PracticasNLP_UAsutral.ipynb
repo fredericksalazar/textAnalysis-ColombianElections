{
 "cells": [
  {
   "cell_type": "markdown",
   "metadata": {},
   "source": [
    "# Experimentación con ScikitLearn\n",
    "\n",
    "Vamos a realizar un proceso de aprendizaje y experimentación con la libreria ScikitLearn. (basado en el curso NLP modelos y algoritmos de la universidad Austral)\n",
    "\n",
    "en este caso vamos a practicar lo aprendido en cada modulo del curso."
   ]
  },
  {
   "cell_type": "code",
   "execution_count": 11,
   "metadata": {},
   "outputs": [],
   "source": [
    "\n",
    "from nltk.corpus import stopwords\n",
    "from nltk import word_tokenize\n",
    "from sklearn.feature_extraction.text import CountVectorizer\n",
    "\n",
    "import pandas as pd"
   ]
  },
  {
   "cell_type": "code",
   "execution_count": 3,
   "metadata": {},
   "outputs": [],
   "source": [
    "def leer_texto(path_archivo):\n",
    "    \n",
    "    \"\"\"obtiene un string con el texto completro de un archivo\n",
    "\n",
    "    Returns:\n",
    "        _string_: \n",
    "        string: texto de un archivos\n",
    "    \"\"\"\n",
    "\n",
    "    text = ''\n",
    "    \n",
    "    archivo = open(path_archivo, 'r', encoding='utf8')\n",
    "\n",
    "    while(True):\n",
    "        linea = archivo.readline()\n",
    "        text = text+linea\n",
    "        if not linea:\n",
    "            break\n",
    "    \n",
    "    archivo.close\n",
    "    \n",
    "    return text"
   ]
  },
  {
   "cell_type": "code",
   "execution_count": 5,
   "metadata": {},
   "outputs": [],
   "source": [
    "#importamos los archivos con los que vamos a trabajar\n",
    "\n",
    "path_petro = './archivos/petro_clean.pdf.txt'\n",
    "path_fajardo = './archivos/fajardo_clean.pdf.txt'\n",
    "path_rodolfo = './archivos/rodolfo_clean.pdf.txt'\n",
    "\n",
    "texto_petro = leer_texto(path_petro)\n",
    "texto_fajardo = leer_texto(path_fajardo)\n",
    "texto_rodolfo = leer_texto(path_rodolfo)"
   ]
  },
  {
   "cell_type": "code",
   "execution_count": 6,
   "metadata": {},
   "outputs": [],
   "source": [
    "#Creamos el corpus de nuestro proceso\n",
    "corpus =[texto_petro,\n",
    "         texto_fajardo,\n",
    "         texto_rodolfo]"
   ]
  },
  {
   "cell_type": "code",
   "execution_count": 36,
   "metadata": {},
   "outputs": [],
   "source": [
    "#crea el count vectorizer\n",
    "\n",
    "count_vectorizer = CountVectorizer(analyzer='word',\n",
    "                                   decode_error='ignore',\n",
    "                                   encoding='str',\n",
    "                                   lowercase=True,\n",
    "                                   stop_words=stopwords.words('spanish'),\n",
    "                                   strip_accents='ascii',\n",
    "                                   min_df=3,\n",
    "                                   max_features=100)"
   ]
  },
  {
   "cell_type": "code",
   "execution_count": 37,
   "metadata": {},
   "outputs": [
    {
     "name": "stderr",
     "output_type": "stream",
     "text": [
      "/opt/homebrew/lib/python3.9/site-packages/sklearn/feature_extraction/text.py:396: UserWarning: Your stop_words may be inconsistent with your preprocessing. Tokenizing the stop words generated tokens ['eramos', 'estabamos', 'estais', 'estan', 'estara', 'estaran', 'estaras', 'estare', 'estareis', 'estaria', 'estariais', 'estariamos', 'estarian', 'estarias', 'esteis', 'esten', 'estes', 'estuvieramos', 'estuviesemos', 'fueramos', 'fuesemos', 'habeis', 'habia', 'habiais', 'habiamos', 'habian', 'habias', 'habra', 'habran', 'habras', 'habre', 'habreis', 'habria', 'habriais', 'habriamos', 'habrian', 'habrias', 'hayais', 'hubieramos', 'hubiesemos', 'mas', 'mia', 'mias', 'mio', 'mios', 'seais', 'sera', 'seran', 'seras', 'sere', 'sereis', 'seria', 'seriais', 'seriamos', 'serian', 'serias', 'si', 'tambien', 'tendra', 'tendran', 'tendras', 'tendre', 'tendreis', 'tendria', 'tendriais', 'tendriamos', 'tendrian', 'tendrias', 'teneis', 'tengais', 'tenia', 'teniais', 'teniamos', 'tenian', 'tenias', 'tuvieramos', 'tuviesemos'] not in stop_words.\n",
      "  warnings.warn(\n"
     ]
    }
   ],
   "source": [
    "\n",
    "data_vectorized = count_vectorizer.fit_transform(corpus)\n"
   ]
  },
  {
   "cell_type": "code",
   "execution_count": 38,
   "metadata": {},
   "outputs": [
    {
     "name": "stderr",
     "output_type": "stream",
     "text": [
      "/opt/homebrew/lib/python3.9/site-packages/sklearn/utils/deprecation.py:87: FutureWarning: Function get_feature_names is deprecated; get_feature_names is deprecated in 1.0 and will be removed in 1.2. Please use get_feature_names_out instead.\n",
      "  warnings.warn(msg, category=FutureWarning)\n"
     ]
    }
   ],
   "source": [
    "data_dtm = pd.DataFrame(data_vectorized.toarray(), columns=count_vectorizer.get_feature_names())"
   ]
  },
  {
   "cell_type": "code",
   "execution_count": 39,
   "metadata": {},
   "outputs": [],
   "source": [
    "data_dtm.to_excel('ftdm.xlsx')"
   ]
  }
 ],
 "metadata": {
  "interpreter": {
   "hash": "b0fa6594d8f4cbf19f97940f81e996739fb7646882a419484c72d19e05852a7e"
  },
  "kernelspec": {
   "display_name": "Python 3.9.12 64-bit",
   "language": "python",
   "name": "python3"
  },
  "language_info": {
   "codemirror_mode": {
    "name": "ipython",
    "version": 3
   },
   "file_extension": ".py",
   "mimetype": "text/x-python",
   "name": "python",
   "nbconvert_exporter": "python",
   "pygments_lexer": "ipython3",
   "version": "3.9.12"
  },
  "orig_nbformat": 4
 },
 "nbformat": 4,
 "nbformat_minor": 2
}
