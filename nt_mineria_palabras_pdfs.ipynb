{
 "cells": [
  {
   "cell_type": "markdown",
   "metadata": {},
   "source": [
    "# Mineria de Palabras \n",
    "\n",
    "haremos un ejercicio de mineria de palabras en cada uno de los documentos de planes de gobierno de los candidatos a fin de identificar el uso de palabra de interes comun en cada texto."
   ]
  },
  {
   "cell_type": "code",
   "execution_count": 220,
   "metadata": {},
   "outputs": [],
   "source": [
    "import spacy\n",
    "import seaborn as sns\n",
    "import pandas as pd\n",
    "import matplotlib.pyplot as plt\n",
    "\n",
    "from spacy.matcher import Matcher\n",
    "\n",
    "nlp = spacy.load('es_core_news_lg')\n",
    "\n",
    "purple_colors = [\"#480ca8\", \"#7209b7\", \"#b5179e\", \"#f72585\"]"
   ]
  },
  {
   "cell_type": "code",
   "execution_count": 221,
   "metadata": {},
   "outputs": [],
   "source": [
    "def leer_texto(path_archivo):\n",
    "    \n",
    "    \"\"\"obtiene un string con el texto completro de un archivo\n",
    "\n",
    "    Returns:\n",
    "        _string_: \n",
    "        string: texto de un archivos\n",
    "    \"\"\"\n",
    "\n",
    "    text = ''\n",
    "    \n",
    "    archivo = open(path_archivo, 'r', encoding='utf8')\n",
    "\n",
    "    while(True):\n",
    "        linea = archivo.readline()\n",
    "        text = text+linea\n",
    "        if not linea:\n",
    "            break\n",
    "    \n",
    "    archivo.close\n",
    "    \n",
    "    return text"
   ]
  },
  {
   "cell_type": "code",
   "execution_count": 222,
   "metadata": {},
   "outputs": [],
   "source": [
    "petro_txt = leer_texto('./archivos/petro_clean.pdf.txt')\n",
    "fajardo_txt = leer_texto('./archivos/fajardo_clean.pdf.txt')\n",
    "rodolfo_txt = leer_texto('./archivos/rodolfo_clean.pdf.txt')\n",
    "federico_txt = leer_texto('./archivos/federico_clean.pdf.txt')\n",
    "\n",
    "#Creamos los objetos Doc de cada uno de los archivos de planes de gobierno\n",
    "doc_petro = nlp(petro_txt)\n",
    "doc_fajardo = nlp(fajardo_txt)\n",
    "doc_rodolfo = nlp(rodolfo_txt)\n",
    "doc_federico = nlp(federico_txt)"
   ]
  },
  {
   "cell_type": "code",
   "execution_count": 223,
   "metadata": {},
   "outputs": [],
   "source": [
    "mth_petro = Matcher(doc_petro.vocab)\n",
    "mth_fajardo = Matcher(doc_fajardo.vocab)\n",
    "mth_rodolfo = Matcher(doc_rodolfo.vocab)\n",
    "mth_federico = Matcher(doc_federico.vocab)"
   ]
  },
  {
   "cell_type": "markdown",
   "metadata": {},
   "source": [
    "## Definición de patrones de búsqueda"
   ]
  },
  {
   "cell_type": "code",
   "execution_count": 224,
   "metadata": {},
   "outputs": [],
   "source": [
    "word = 'climático'\n",
    "\n",
    "search = [{'TEXT':word}]\n",
    "\n",
    "mth_petro.add('search', [search])\n",
    "mth_fajardo.add('search', [search])\n",
    "mth_rodolfo.add('search', [search])\n",
    "mth_federico.add('search', [search])\n",
    "\n",
    "#Ahora buscamos las coincidencias dentro de cada documento\n",
    "\n",
    "matches_petro = mth_petro(doc_petro)\n",
    "matches_fajardo = mth_fajardo(doc_fajardo)\n",
    "matches_rodolfo = mth_rodolfo(doc_rodolfo)\n",
    "matches_federico = mth_federico(doc_federico)"
   ]
  },
  {
   "cell_type": "code",
   "execution_count": 225,
   "metadata": {},
   "outputs": [],
   "source": [
    "#Resultados de coincidencia para petro\n",
    "\n",
    "lista_words_petro= []\n",
    "lista_words_fajardo = []\n",
    "lista_words_rodolfo = []\n",
    "lista_words_federico = []\n",
    "\n",
    "for match_id, start, end in matches_petro:\n",
    "    string_id = doc_petro.vocab.strings[match_id]\n",
    "    if string_id=='search':\n",
    "        span = doc_petro[start-5:end+5]\n",
    "        lista_words_petro.append(span.text)\n",
    "    \n",
    "for match_id, start, end in matches_fajardo:\n",
    "    string_id = doc_fajardo.vocab.strings[match_id]\n",
    "    if string_id =='search':\n",
    "        span = doc_fajardo[start-5:end+5]\n",
    "        lista_words_fajardo.append(span.text)\n",
    "    \n",
    "for match_id, start, end in matches_rodolfo:\n",
    "    string_id = doc_rodolfo.vocab.strings[match_id]\n",
    "    if string_id == 'search':\n",
    "        span = doc_rodolfo[start-5:end+5]\n",
    "        lista_words_rodolfo.append(span.text)\n",
    "    \n",
    "for match_id, start, end in matches_federico:\n",
    "    string_id = doc_federico.vocab.strings[match_id]\n",
    "    if string_id=='search':\n",
    "        span = doc_federico[start-5:end+5]\n",
    "        lista_words_federico.append(span.text)"
   ]
  },
  {
   "cell_type": "code",
   "execution_count": 226,
   "metadata": {},
   "outputs": [],
   "source": [
    "dic_words = {}\n",
    "\n",
    "dic_words = {\n",
    "    'candidatos': ['Petro', 'Fajardo', 'Rodolfo', 'Federico'],\n",
    "    'Freq':[len(lista_words_petro), len(lista_words_fajardo), len(lista_words_rodolfo), len(lista_words_federico)]\n",
    "}\n",
    "\n",
    "df_words = pd.DataFrame.from_dict(dic_words)"
   ]
  },
  {
   "cell_type": "code",
   "execution_count": 227,
   "metadata": {},
   "outputs": [
    {
     "data": {
      "text/html": [
       "<div>\n",
       "<style scoped>\n",
       "    .dataframe tbody tr th:only-of-type {\n",
       "        vertical-align: middle;\n",
       "    }\n",
       "\n",
       "    .dataframe tbody tr th {\n",
       "        vertical-align: top;\n",
       "    }\n",
       "\n",
       "    .dataframe thead th {\n",
       "        text-align: right;\n",
       "    }\n",
       "</style>\n",
       "<table border=\"1\" class=\"dataframe\">\n",
       "  <thead>\n",
       "    <tr style=\"text-align: right;\">\n",
       "      <th></th>\n",
       "      <th>candidatos</th>\n",
       "      <th>Freq</th>\n",
       "    </tr>\n",
       "  </thead>\n",
       "  <tbody>\n",
       "    <tr>\n",
       "      <th>0</th>\n",
       "      <td>Petro</td>\n",
       "      <td>28</td>\n",
       "    </tr>\n",
       "    <tr>\n",
       "      <th>1</th>\n",
       "      <td>Fajardo</td>\n",
       "      <td>11</td>\n",
       "    </tr>\n",
       "    <tr>\n",
       "      <th>2</th>\n",
       "      <td>Rodolfo</td>\n",
       "      <td>5</td>\n",
       "    </tr>\n",
       "    <tr>\n",
       "      <th>3</th>\n",
       "      <td>Federico</td>\n",
       "      <td>5</td>\n",
       "    </tr>\n",
       "  </tbody>\n",
       "</table>\n",
       "</div>"
      ],
      "text/plain": [
       "  candidatos  Freq\n",
       "0      Petro    28\n",
       "1    Fajardo    11\n",
       "2    Rodolfo     5\n",
       "3   Federico     5"
      ]
     },
     "execution_count": 227,
     "metadata": {},
     "output_type": "execute_result"
    }
   ],
   "source": [
    "df_words"
   ]
  },
  {
   "cell_type": "code",
   "execution_count": 228,
   "metadata": {},
   "outputs": [
    {
     "data": {
      "text/plain": [
       "<AxesSubplot:title={'center':'Frecuencia uso palabra climático por plan de gobierno'}, xlabel='candidatos', ylabel='Frecuencia'>"
      ]
     },
     "execution_count": 228,
     "metadata": {},
     "output_type": "execute_result"
    },
    {
     "data": {
      "image/png": "[encoded data removed]",
      "text/plain": [
       "<Figure size 1440x720 with 1 Axes>"
      ]
     },
     "metadata": {
      "needs_background": "light"
     },
     "output_type": "display_data"
    }
   ],
   "source": [
    "df_words.sort_values(by='Freq', ascending=False).plot.bar(x='candidatos',\n",
    "                                                          y='Freq',\n",
    "                                                          figsize = (20,10),\n",
    "                                                          title=\"Frecuencia uso palabra \"+word+\" por plan de gobierno\",\n",
    "                                                          color=purple_colors,\n",
    "                                                          grid = True,\n",
    "                                                          legend = True,\n",
    "                                                          ylabel = \"Frecuencia\")\n"
   ]
  },
  {
   "cell_type": "code",
   "execution_count": 229,
   "metadata": {},
   "outputs": [
    {
     "data": {
      "text/plain": [
       "['la lucha contra el cambio climático  1311 ordenamiento territorial alrededor',\n",
       " 'la lucha contra el cambio climático y la paz  475',\n",
       " 'lucha contra el cam bio climático en la promoción de la',\n",
       " ' crisis ambiental el cambio climático los progra mas de protección',\n",
       " 'ción y adaptación al cambio climático y la protección de la',\n",
       " ' por  cambio  climático  y  la  ',\n",
       " 'los  efectos del cambio climático y contribuir con ello a',\n",
       " 'espe cie humana el cambio climático profundiza las desigual dades compromete',\n",
       " 'contra el cam bio  climático  que  incluye  ',\n",
       " 'y de gestión de cambio climático mares  y  costas',\n",
       " ' al  cambio  climático  transita remos hacia una',\n",
       " 'asociados  al cambio  climático  contaminando  y  ',\n",
       " 'en el contexto del cambio climático y crisis de la biodiversidad',\n",
       " 'ambiental de riesgos y cambio climático para que las ciudadanías  ',\n",
       " ' para enfrentar el cambio climático y fortalecer las  capacidades',\n",
       " 'contra el cam bio  climático  que  incluye  ',\n",
       " 'la lucha contra el cambio climático 2 de una economía extractivista',\n",
       " 'adaptación al  cambio  climático  y  el  ',\n",
       " ' contra  el cambio climático lucha  contra  la',\n",
       " 'contra el  cambio  climático  la  paz  ',\n",
       " 'energética com bata el cambio climático asegure la sobe ranía alimentaria',\n",
       " 'la lucha contra el cambio climático y la pazfundamentaremos  las',\n",
       " 'vida y contra el cambio climático  y  para  ',\n",
       " ' contra  el  climático  donde  co lombia',\n",
       " 'paz  el cambio  climático  y  la  ',\n",
       " ' el  cambio  climático  y  superación  ',\n",
       " 'la productividad y el cambio climático  los  tlc  ',\n",
       " ' el  cam bio climático desarrollar transferencias de conocimiento  ']"
      ]
     },
     "execution_count": 229,
     "metadata": {},
     "output_type": "execute_result"
    }
   ],
   "source": [
    "lista_words_petro"
   ]
  }
 ],
 "metadata": {
  "interpreter": {
   "hash": "b0fa6594d8f4cbf19f97940f81e996739fb7646882a419484c72d19e05852a7e"
  },
  "kernelspec": {
   "display_name": "Python 3 (ipykernel)",
   "language": "python",
   "name": "python3"
  },
  "language_info": {
   "codemirror_mode": {
    "name": "ipython",
    "version": 3
   },
   "file_extension": ".py",
   "mimetype": "text/x-python",
   "name": "python",
   "nbconvert_exporter": "python",
   "pygments_lexer": "ipython3",
   "version": "3.9.13"
  }
 },
 "nbformat": 4,
 "nbformat_minor": 2
}
