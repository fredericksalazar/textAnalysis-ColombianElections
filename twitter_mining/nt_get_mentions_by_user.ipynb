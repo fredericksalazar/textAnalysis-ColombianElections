{
 "cells": [
  {
   "cell_type": "markdown",
   "metadata": {},
   "source": [
    "# Search Tweets \n",
    "este notebook se enfoca en obtener tweets que puedan ser interesantes desde el punto de vista del estudio profesional, se indicarán patrones de busqueda para la descarga de tweets"
   ]
  },
  {
   "cell_type": "code",
   "execution_count": 1,
   "metadata": {},
   "outputs": [],
   "source": [
    "#Cargamos todas las librerias requeridas\n",
    "import re\n",
    "import pandas as pd\n",
    "import tweepy as twt\n",
    "from datetime import datetime"
   ]
  },
  {
   "cell_type": "code",
   "execution_count": 11,
   "metadata": {},
   "outputs": [],
   "source": [
    "#configuramos la conexión al API de twitter mediante tweepy\n",
    "#tokens de acceso a la api de twitter\n",
    "\n",
    "ACCESS_TOKEN = '175141573-vHfTt2tErLH9EjCeCwHrR2DXEmLZQncCelLP9axd'\n",
    "ACCESS_TOKEN_SECRET = 'TCbrWZMl8X7JWcFH0YibD5n6AoOQKNTfxwTtfs8XHSliv'\n",
    "API_KEY = 'DPrHgZiq5TQrphWcqGqtl06qr'\n",
    "API_SECRET_KEY = '2vk5ZXhDoSg8itU0nIsOMPMxPKaB2Xk4mdnoqUjCp6dUHPUgAZ'\n",
    "\n",
    "BEARER_TOKEN = 'AAAAAAAAAAAAAAAAAAAAAOCScAEAAAAASCUqdpuYquL214J4Jg8OnCmUxXM%3DNUe0ZJ9wZfpCLfNcLHEQoLKycvAowh2cfqvEHOywUTNkCadCC2'\n",
    "\n",
    "api = twt.Client(bearer_token=BEARER_TOKEN)\n"
   ]
  },
  {
   "cell_type": "code",
   "execution_count": 12,
   "metadata": {},
   "outputs": [],
   "source": [
    "def cleantext(text):\n",
    "    txt_mod = \"\"\n",
    "    text = re.sub(r'(https?://)?(www\\.)?([a-zA-Z0-9_%]*)\\b\\.[a-z]{2,4}(\\.[a-z]{2})?((/[a-zA-Z0-9_%]*)+)?(\\.[a-z]*)?', '', text)\n",
    "    #text = re.sub(r'@[A-Za-z09]+', '', text)\n",
    "    #text = re.sub(r'#', '', text)\n",
    "    text = re.sub(r'RT[\\s]+', '', text)\n",
    "    text = re.sub(r'https?:\\/\\/?', '', text)\n",
    "    text = text.replace('\\n', '')\n",
    "    text = text.replace('.', ' ')\n",
    "    text = text.replace(',', ' ')\n",
    "    text = re.sub(r't.co+', '', text)\n",
    "    \n",
    "    \n",
    "    for word in text.split(' '):\n",
    "        if len(txt_mod) == 0:\n",
    "            txt_mod = word.lower().strip()\n",
    "        else:\n",
    "            txt_mod = txt_mod+' '+word.lower().strip()\n",
    "                \n",
    "    return txt_mod"
   ]
  },
  {
   "cell_type": "code",
   "execution_count": 4,
   "metadata": {},
   "outputs": [],
   "source": [
    "perfil_petro = api.get_user(username='petrogustavo')\n",
    "perfil_sergio = api.get_user(username='sergio_fajardo')\n",
    "perfil_fico = api.get_user(username='FicoGutierrez')\n",
    "perfil_rodolfo = api.get_user(username='ingrodolfohdez')\n",
    "perfil_quintero = api.get_user(username='QuinteroCalle')\n",
    "\n",
    "id_perfil_petro = perfil_petro.data.id\n",
    "id_perfil_sergio = perfil_sergio.data.id\n",
    "id_perfil_fico = perfil_fico.data.id\n",
    "id_perfil_rodolfo = perfil_rodolfo.data.id\n",
    "id_perfil_quintero = perfil_quintero.data.id"
   ]
  },
  {
   "cell_type": "code",
   "execution_count": 15,
   "metadata": {},
   "outputs": [
    {
     "ename": "SyntaxError",
     "evalue": "invalid syntax (2670545971.py, line 9)",
     "output_type": "error",
     "traceback": [
      "\u001b[0;36m  File \u001b[0;32m\"/var/folders/p6/ljn278l508b3lzq9pmyhwb2h0000gp/T/ipykernel_17392/2670545971.py\"\u001b[0;36m, line \u001b[0;32m9\u001b[0m\n\u001b[0;31m    'source',,\u001b[0m\n\u001b[0m             ^\u001b[0m\n\u001b[0;31mSyntaxError\u001b[0m\u001b[0;31m:\u001b[0m invalid syntax\n"
     ]
    }
   ],
   "source": [
    "response = api.search_recent_tweets(query=query,\n",
    "                                    tweet_fields = ['id', \n",
    "                                                    'text', \n",
    "                                                    'author_id', \n",
    "                                                    'in_reply_to_user_id',\n",
    "                                                    'lang',\n",
    "                                                    'geo',\n",
    "                                                    'source',\n",
    "                                                    'public_metrics',\n",
    "                                                    'created_at'],\n",
    "                                    max_results = 100)"
   ]
  },
  {
   "cell_type": "code",
   "execution_count": 23,
   "metadata": {},
   "outputs": [],
   "source": [
    "query = '@petrogustavo -is:retweet lang:es'\n",
    "\n",
    "tweets = twt.Paginator(method=api.search_recent_tweets,\n",
    "                       query = query,\n",
    "                       tweet_fields = ['id', \n",
    "                                        'text', \n",
    "                                        'author_id', \n",
    "                                        'in_reply_to_user_id',\n",
    "                                        'lang',\n",
    "                                        'geo',\n",
    "                                        'source',\n",
    "                                        'public_metrics',\n",
    "                                        'created_at'],\n",
    "                       max_results = 100).flatten(3000)\n"
   ]
  },
  {
   "cell_type": "code",
   "execution_count": 27,
   "metadata": {},
   "outputs": [],
   "source": [
    "list_tweets = []\n",
    "\n",
    "for tweet in tweets:\n",
    "    list_tweets.append([tweet.id,\n",
    "                        tweet.text,\n",
    "                        tweet.author_id,\n",
    "                        tweet.in_reply_to_user_id,\n",
    "                        tweet.lang,\n",
    "                        tweet.geo,\n",
    "                        tweet.source,\n",
    "                        tweet.public_metrics,\n",
    "                        tweet.created_at])"
   ]
  },
  {
   "cell_type": "code",
   "execution_count": 28,
   "metadata": {},
   "outputs": [
    {
     "ename": "ValueError",
     "evalue": "Length mismatch: Expected axis has 0 elements, new values have 9 elements",
     "output_type": "error",
     "traceback": [
      "\u001b[0;31m---------------------------------------------------------------------------\u001b[0m",
      "\u001b[0;31mValueError\u001b[0m                                Traceback (most recent call last)",
      "\u001b[0;32m/var/folders/p6/ljn278l508b3lzq9pmyhwb2h0000gp/T/ipykernel_17392/66118022.py\u001b[0m in \u001b[0;36m<cell line: 3>\u001b[0;34m()\u001b[0m\n\u001b[1;32m      1\u001b[0m \u001b[0mdf_tweets\u001b[0m \u001b[0;34m=\u001b[0m \u001b[0mpd\u001b[0m\u001b[0;34m.\u001b[0m\u001b[0mDataFrame\u001b[0m\u001b[0;34m(\u001b[0m\u001b[0mlist_tweets\u001b[0m\u001b[0;34m)\u001b[0m\u001b[0;34m\u001b[0m\u001b[0;34m\u001b[0m\u001b[0m\n\u001b[1;32m      2\u001b[0m \u001b[0;34m\u001b[0m\u001b[0m\n\u001b[0;32m----> 3\u001b[0;31m df_tweets.columns = ['id',\n\u001b[0m\u001b[1;32m      4\u001b[0m                      \u001b[0;34m'tweet'\u001b[0m\u001b[0;34m,\u001b[0m\u001b[0;34m\u001b[0m\u001b[0;34m\u001b[0m\u001b[0m\n\u001b[1;32m      5\u001b[0m                      \u001b[0;34m'autor_id'\u001b[0m\u001b[0;34m,\u001b[0m\u001b[0;34m\u001b[0m\u001b[0;34m\u001b[0m\u001b[0m\n",
      "\u001b[0;32m/opt/homebrew/lib/python3.9/site-packages/pandas/core/generic.py\u001b[0m in \u001b[0;36m__setattr__\u001b[0;34m(self, name, value)\u001b[0m\n\u001b[1;32m   5594\u001b[0m         \u001b[0;32mtry\u001b[0m\u001b[0;34m:\u001b[0m\u001b[0;34m\u001b[0m\u001b[0;34m\u001b[0m\u001b[0m\n\u001b[1;32m   5595\u001b[0m             \u001b[0mobject\u001b[0m\u001b[0;34m.\u001b[0m\u001b[0m__getattribute__\u001b[0m\u001b[0;34m(\u001b[0m\u001b[0mself\u001b[0m\u001b[0;34m,\u001b[0m \u001b[0mname\u001b[0m\u001b[0;34m)\u001b[0m\u001b[0;34m\u001b[0m\u001b[0;34m\u001b[0m\u001b[0m\n\u001b[0;32m-> 5596\u001b[0;31m             \u001b[0;32mreturn\u001b[0m \u001b[0mobject\u001b[0m\u001b[0;34m.\u001b[0m\u001b[0m__setattr__\u001b[0m\u001b[0;34m(\u001b[0m\u001b[0mself\u001b[0m\u001b[0;34m,\u001b[0m \u001b[0mname\u001b[0m\u001b[0;34m,\u001b[0m \u001b[0mvalue\u001b[0m\u001b[0;34m)\u001b[0m\u001b[0;34m\u001b[0m\u001b[0;34m\u001b[0m\u001b[0m\n\u001b[0m\u001b[1;32m   5597\u001b[0m         \u001b[0;32mexcept\u001b[0m \u001b[0mAttributeError\u001b[0m\u001b[0;34m:\u001b[0m\u001b[0;34m\u001b[0m\u001b[0;34m\u001b[0m\u001b[0m\n\u001b[1;32m   5598\u001b[0m             \u001b[0;32mpass\u001b[0m\u001b[0;34m\u001b[0m\u001b[0;34m\u001b[0m\u001b[0m\n",
      "\u001b[0;32m/opt/homebrew/lib/python3.9/site-packages/pandas/_libs/properties.pyx\u001b[0m in \u001b[0;36mpandas._libs.properties.AxisProperty.__set__\u001b[0;34m()\u001b[0m\n",
      "\u001b[0;32m/opt/homebrew/lib/python3.9/site-packages/pandas/core/generic.py\u001b[0m in \u001b[0;36m_set_axis\u001b[0;34m(self, axis, labels)\u001b[0m\n\u001b[1;32m    767\u001b[0m     \u001b[0;32mdef\u001b[0m \u001b[0m_set_axis\u001b[0m\u001b[0;34m(\u001b[0m\u001b[0mself\u001b[0m\u001b[0;34m,\u001b[0m \u001b[0maxis\u001b[0m\u001b[0;34m:\u001b[0m \u001b[0mint\u001b[0m\u001b[0;34m,\u001b[0m \u001b[0mlabels\u001b[0m\u001b[0;34m:\u001b[0m \u001b[0mIndex\u001b[0m\u001b[0;34m)\u001b[0m \u001b[0;34m->\u001b[0m \u001b[0;32mNone\u001b[0m\u001b[0;34m:\u001b[0m\u001b[0;34m\u001b[0m\u001b[0;34m\u001b[0m\u001b[0m\n\u001b[1;32m    768\u001b[0m         \u001b[0mlabels\u001b[0m \u001b[0;34m=\u001b[0m \u001b[0mensure_index\u001b[0m\u001b[0;34m(\u001b[0m\u001b[0mlabels\u001b[0m\u001b[0;34m)\u001b[0m\u001b[0;34m\u001b[0m\u001b[0;34m\u001b[0m\u001b[0m\n\u001b[0;32m--> 769\u001b[0;31m         \u001b[0mself\u001b[0m\u001b[0;34m.\u001b[0m\u001b[0m_mgr\u001b[0m\u001b[0;34m.\u001b[0m\u001b[0mset_axis\u001b[0m\u001b[0;34m(\u001b[0m\u001b[0maxis\u001b[0m\u001b[0;34m,\u001b[0m \u001b[0mlabels\u001b[0m\u001b[0;34m)\u001b[0m\u001b[0;34m\u001b[0m\u001b[0;34m\u001b[0m\u001b[0m\n\u001b[0m\u001b[1;32m    770\u001b[0m         \u001b[0mself\u001b[0m\u001b[0;34m.\u001b[0m\u001b[0m_clear_item_cache\u001b[0m\u001b[0;34m(\u001b[0m\u001b[0;34m)\u001b[0m\u001b[0;34m\u001b[0m\u001b[0;34m\u001b[0m\u001b[0m\n\u001b[1;32m    771\u001b[0m \u001b[0;34m\u001b[0m\u001b[0m\n",
      "\u001b[0;32m/opt/homebrew/lib/python3.9/site-packages/pandas/core/internals/managers.py\u001b[0m in \u001b[0;36mset_axis\u001b[0;34m(self, axis, new_labels)\u001b[0m\n\u001b[1;32m    212\u001b[0m     \u001b[0;32mdef\u001b[0m \u001b[0mset_axis\u001b[0m\u001b[0;34m(\u001b[0m\u001b[0mself\u001b[0m\u001b[0;34m,\u001b[0m \u001b[0maxis\u001b[0m\u001b[0;34m:\u001b[0m \u001b[0mint\u001b[0m\u001b[0;34m,\u001b[0m \u001b[0mnew_labels\u001b[0m\u001b[0;34m:\u001b[0m \u001b[0mIndex\u001b[0m\u001b[0;34m)\u001b[0m \u001b[0;34m->\u001b[0m \u001b[0;32mNone\u001b[0m\u001b[0;34m:\u001b[0m\u001b[0;34m\u001b[0m\u001b[0;34m\u001b[0m\u001b[0m\n\u001b[1;32m    213\u001b[0m         \u001b[0;31m# Caller is responsible for ensuring we have an Index object.\u001b[0m\u001b[0;34m\u001b[0m\u001b[0;34m\u001b[0m\u001b[0m\n\u001b[0;32m--> 214\u001b[0;31m         \u001b[0mself\u001b[0m\u001b[0;34m.\u001b[0m\u001b[0m_validate_set_axis\u001b[0m\u001b[0;34m(\u001b[0m\u001b[0maxis\u001b[0m\u001b[0;34m,\u001b[0m \u001b[0mnew_labels\u001b[0m\u001b[0;34m)\u001b[0m\u001b[0;34m\u001b[0m\u001b[0;34m\u001b[0m\u001b[0m\n\u001b[0m\u001b[1;32m    215\u001b[0m         \u001b[0mself\u001b[0m\u001b[0;34m.\u001b[0m\u001b[0maxes\u001b[0m\u001b[0;34m[\u001b[0m\u001b[0maxis\u001b[0m\u001b[0;34m]\u001b[0m \u001b[0;34m=\u001b[0m \u001b[0mnew_labels\u001b[0m\u001b[0;34m\u001b[0m\u001b[0;34m\u001b[0m\u001b[0m\n\u001b[1;32m    216\u001b[0m \u001b[0;34m\u001b[0m\u001b[0m\n",
      "\u001b[0;32m/opt/homebrew/lib/python3.9/site-packages/pandas/core/internals/base.py\u001b[0m in \u001b[0;36m_validate_set_axis\u001b[0;34m(self, axis, new_labels)\u001b[0m\n\u001b[1;32m     67\u001b[0m \u001b[0;34m\u001b[0m\u001b[0m\n\u001b[1;32m     68\u001b[0m         \u001b[0;32melif\u001b[0m \u001b[0mnew_len\u001b[0m \u001b[0;34m!=\u001b[0m \u001b[0mold_len\u001b[0m\u001b[0;34m:\u001b[0m\u001b[0;34m\u001b[0m\u001b[0;34m\u001b[0m\u001b[0m\n\u001b[0;32m---> 69\u001b[0;31m             raise ValueError(\n\u001b[0m\u001b[1;32m     70\u001b[0m                 \u001b[0;34mf\"Length mismatch: Expected axis has {old_len} elements, new \"\u001b[0m\u001b[0;34m\u001b[0m\u001b[0;34m\u001b[0m\u001b[0m\n\u001b[1;32m     71\u001b[0m                 \u001b[0;34mf\"values have {new_len} elements\"\u001b[0m\u001b[0;34m\u001b[0m\u001b[0;34m\u001b[0m\u001b[0m\n",
      "\u001b[0;31mValueError\u001b[0m: Length mismatch: Expected axis has 0 elements, new values have 9 elements"
     ]
    }
   ],
   "source": [
    "df_tweets = pd.DataFrame(list_tweets)\n",
    "\n",
    "df_tweets.columns = ['id',\n",
    "                     'tweet',\n",
    "                     'autor_id',\n",
    "                     'in_reply_to_user_id',\n",
    "                     'lang',\n",
    "                     'geo',\n",
    "                     'source',\n",
    "                     'public_metrics',\n",
    "                     'created_at']"
   ]
  },
  {
   "cell_type": "code",
   "execution_count": 29,
   "metadata": {},
   "outputs": [
    {
     "data": {
      "text/plain": [
       "Series([], dtype: int64)"
      ]
     },
     "execution_count": 29,
     "metadata": {},
     "output_type": "execute_result"
    }
   ],
   "source": [
    "df_tweets.count()"
   ]
  },
  {
   "cell_type": "code",
   "execution_count": 36,
   "metadata": {},
   "outputs": [],
   "source": [
    "#Ahora vamos a consultar las menciones que ha tenido cada usuario\n",
    "\n",
    "mentions = twt.Paginator(api.get_users_mentions,\n",
    "                         id=id_perfil_petro,\n",
    "                         tweet_fields = ['id', \n",
    "                                         'text', \n",
    "                                         'author_id', \n",
    "                                         'geo',\n",
    "                                         'source',\n",
    "                                         'public_metrics',\n",
    "                                         'created_at'],\n",
    "                         start_time = datetime.fromisoformat('2022-05-29T19:00:00'),\n",
    "                         max_results = 100).flatten(10000)"
   ]
  },
  {
   "cell_type": "code",
   "execution_count": 37,
   "metadata": {},
   "outputs": [],
   "source": [
    "list_mentions = []\n",
    "\n",
    "for mention in mentions:\n",
    "    list_mentions.append([mention.id,\n",
    "                          mention.text,\n",
    "                          mention.author_id,\n",
    "                          mention.geo,\n",
    "                          mention.public_metrics,\n",
    "                          mention.source,\n",
    "                          mention.created_at])"
   ]
  },
  {
   "cell_type": "code",
   "execution_count": 38,
   "metadata": {},
   "outputs": [],
   "source": [
    "df_mentions = pd.DataFrame(list_mentions)\n",
    "df_mentions.columns = ['id',\n",
    "                       'tweet',\n",
    "                       'id_autor',\n",
    "                       'geolocation',\n",
    "                       'metrics',\n",
    "                       'source',\n",
    "                       'created_at']\n",
    "\n",
    "df_mentions['tweet'] = df_mentions['tweet'].apply(cleantext)\n"
   ]
  },
  {
   "cell_type": "code",
   "execution_count": 39,
   "metadata": {},
   "outputs": [
    {
     "data": {
      "text/html": [
       "<div>\n",
       "<style scoped>\n",
       "    .dataframe tbody tr th:only-of-type {\n",
       "        vertical-align: middle;\n",
       "    }\n",
       "\n",
       "    .dataframe tbody tr th {\n",
       "        vertical-align: top;\n",
       "    }\n",
       "\n",
       "    .dataframe thead th {\n",
       "        text-align: right;\n",
       "    }\n",
       "</style>\n",
       "<table border=\"1\" class=\"dataframe\">\n",
       "  <thead>\n",
       "    <tr style=\"text-align: right;\">\n",
       "      <th></th>\n",
       "      <th>id</th>\n",
       "      <th>tweet</th>\n",
       "      <th>id_autor</th>\n",
       "      <th>geolocation</th>\n",
       "      <th>metrics</th>\n",
       "      <th>source</th>\n",
       "      <th>created_at</th>\n",
       "    </tr>\n",
       "  </thead>\n",
       "  <tbody>\n",
       "    <tr>\n",
       "      <th>0</th>\n",
       "      <td>1531649877377265667</td>\n",
       "      <td>@patriciajaniot @ingrodolfohdez @petrogustavo ...</td>\n",
       "      <td>1313198415581413379</td>\n",
       "      <td>None</td>\n",
       "      <td>{'retweet_count': 0, 'reply_count': 0, 'like_c...</td>\n",
       "      <td>Twitter for Android</td>\n",
       "      <td>2022-05-31 14:52:42+00:00</td>\n",
       "    </tr>\n",
       "    <tr>\n",
       "      <th>1</th>\n",
       "      <td>1531649872532844544</td>\n",
       "      <td>@falaciadeldia @toyaviudes @petrogustavo 💓💓💓💓</td>\n",
       "      <td>1239137978</td>\n",
       "      <td>None</td>\n",
       "      <td>{'retweet_count': 0, 'reply_count': 0, 'like_c...</td>\n",
       "      <td>Twitter for Android</td>\n",
       "      <td>2022-05-31 14:52:40+00:00</td>\n",
       "    </tr>\n",
       "    <tr>\n",
       "      <th>2</th>\n",
       "      <td>1531649867315089410</td>\n",
       "      <td>@las2orillas @ingrodolfohdez @petrogustavo es ...</td>\n",
       "      <td>1351010252</td>\n",
       "      <td>None</td>\n",
       "      <td>{'retweet_count': 0, 'reply_count': 0, 'like_c...</td>\n",
       "      <td>Twitter for Android</td>\n",
       "      <td>2022-05-31 14:52:39+00:00</td>\n",
       "    </tr>\n",
       "    <tr>\n",
       "      <th>3</th>\n",
       "      <td>1531649866660823041</td>\n",
       "      <td>@nossiej2419 @elsemblante @petrogustavo @regis...</td>\n",
       "      <td>158510458</td>\n",
       "      <td>None</td>\n",
       "      <td>{'retweet_count': 0, 'reply_count': 0, 'like_c...</td>\n",
       "      <td>Twitter for Android</td>\n",
       "      <td>2022-05-31 14:52:39+00:00</td>\n",
       "    </tr>\n",
       "    <tr>\n",
       "      <th>4</th>\n",
       "      <td>1531649861082304513</td>\n",
       "      <td>@toyaviudes @petrogustavo entonces por qué obt...</td>\n",
       "      <td>634594672</td>\n",
       "      <td>None</td>\n",
       "      <td>{'retweet_count': 0, 'reply_count': 0, 'like_c...</td>\n",
       "      <td>Twitter for Android</td>\n",
       "      <td>2022-05-31 14:52:38+00:00</td>\n",
       "    </tr>\n",
       "    <tr>\n",
       "      <th>...</th>\n",
       "      <td>...</td>\n",
       "      <td>...</td>\n",
       "      <td>...</td>\n",
       "      <td>...</td>\n",
       "      <td>...</td>\n",
       "      <td>...</td>\n",
       "      <td>...</td>\n",
       "    </tr>\n",
       "    <tr>\n",
       "      <th>833</th>\n",
       "      <td>1531646306036371456</td>\n",
       "      <td>@petrogustavo hitler del siglo xxi</td>\n",
       "      <td>891295939595468800</td>\n",
       "      <td>None</td>\n",
       "      <td>{'retweet_count': 0, 'reply_count': 0, 'like_c...</td>\n",
       "      <td>Twitter for Android</td>\n",
       "      <td>2022-05-31 14:38:30+00:00</td>\n",
       "    </tr>\n",
       "    <tr>\n",
       "      <th>834</th>\n",
       "      <td>1531646303993749505</td>\n",
       "      <td>la campaña debe continuar  debemos redoblar es...</td>\n",
       "      <td>170135191</td>\n",
       "      <td>None</td>\n",
       "      <td>{'retweet_count': 1, 'reply_count': 0, 'like_c...</td>\n",
       "      <td>Twitter for Android</td>\n",
       "      <td>2022-05-31 14:38:30+00:00</td>\n",
       "    </tr>\n",
       "    <tr>\n",
       "      <th>835</th>\n",
       "      <td>1531646298318950401</td>\n",
       "      <td>@wradiocolombia #micandidatoes  el que esta pr...</td>\n",
       "      <td>240471118</td>\n",
       "      <td>None</td>\n",
       "      <td>{'retweet_count': 0, 'reply_count': 0, 'like_c...</td>\n",
       "      <td>Twitter for iPhone</td>\n",
       "      <td>2022-05-31 14:38:28+00:00</td>\n",
       "    </tr>\n",
       "    <tr>\n",
       "      <th>836</th>\n",
       "      <td>1531646293986140161</td>\n",
       "      <td>@petrogustavo debe exigir a gobiernos europeos...</td>\n",
       "      <td>574541815</td>\n",
       "      <td>None</td>\n",
       "      <td>{'retweet_count': 1, 'reply_count': 0, 'like_c...</td>\n",
       "      <td>Twitter for Android</td>\n",
       "      <td>2022-05-31 14:38:27+00:00</td>\n",
       "    </tr>\n",
       "    <tr>\n",
       "      <th>837</th>\n",
       "      <td>1531646290915905536</td>\n",
       "      <td>@anateresabernal @levyrincon @petrogustavo no ...</td>\n",
       "      <td>1181256752995676160</td>\n",
       "      <td>None</td>\n",
       "      <td>{'retweet_count': 0, 'reply_count': 0, 'like_c...</td>\n",
       "      <td>Twitter for Android</td>\n",
       "      <td>2022-05-31 14:38:27+00:00</td>\n",
       "    </tr>\n",
       "  </tbody>\n",
       "</table>\n",
       "<p>838 rows × 7 columns</p>\n",
       "</div>"
      ],
      "text/plain": [
       "                      id                                              tweet  \\\n",
       "0    1531649877377265667  @patriciajaniot @ingrodolfohdez @petrogustavo ...   \n",
       "1    1531649872532844544      @falaciadeldia @toyaviudes @petrogustavo 💓💓💓💓   \n",
       "2    1531649867315089410  @las2orillas @ingrodolfohdez @petrogustavo es ...   \n",
       "3    1531649866660823041  @nossiej2419 @elsemblante @petrogustavo @regis...   \n",
       "4    1531649861082304513  @toyaviudes @petrogustavo entonces por qué obt...   \n",
       "..                   ...                                                ...   \n",
       "833  1531646306036371456                 @petrogustavo hitler del siglo xxi   \n",
       "834  1531646303993749505  la campaña debe continuar  debemos redoblar es...   \n",
       "835  1531646298318950401  @wradiocolombia #micandidatoes  el que esta pr...   \n",
       "836  1531646293986140161  @petrogustavo debe exigir a gobiernos europeos...   \n",
       "837  1531646290915905536  @anateresabernal @levyrincon @petrogustavo no ...   \n",
       "\n",
       "                id_autor geolocation  \\\n",
       "0    1313198415581413379        None   \n",
       "1             1239137978        None   \n",
       "2             1351010252        None   \n",
       "3              158510458        None   \n",
       "4              634594672        None   \n",
       "..                   ...         ...   \n",
       "833   891295939595468800        None   \n",
       "834            170135191        None   \n",
       "835            240471118        None   \n",
       "836            574541815        None   \n",
       "837  1181256752995676160        None   \n",
       "\n",
       "                                               metrics               source  \\\n",
       "0    {'retweet_count': 0, 'reply_count': 0, 'like_c...  Twitter for Android   \n",
       "1    {'retweet_count': 0, 'reply_count': 0, 'like_c...  Twitter for Android   \n",
       "2    {'retweet_count': 0, 'reply_count': 0, 'like_c...  Twitter for Android   \n",
       "3    {'retweet_count': 0, 'reply_count': 0, 'like_c...  Twitter for Android   \n",
       "4    {'retweet_count': 0, 'reply_count': 0, 'like_c...  Twitter for Android   \n",
       "..                                                 ...                  ...   \n",
       "833  {'retweet_count': 0, 'reply_count': 0, 'like_c...  Twitter for Android   \n",
       "834  {'retweet_count': 1, 'reply_count': 0, 'like_c...  Twitter for Android   \n",
       "835  {'retweet_count': 0, 'reply_count': 0, 'like_c...   Twitter for iPhone   \n",
       "836  {'retweet_count': 1, 'reply_count': 0, 'like_c...  Twitter for Android   \n",
       "837  {'retweet_count': 0, 'reply_count': 0, 'like_c...  Twitter for Android   \n",
       "\n",
       "                   created_at  \n",
       "0   2022-05-31 14:52:42+00:00  \n",
       "1   2022-05-31 14:52:40+00:00  \n",
       "2   2022-05-31 14:52:39+00:00  \n",
       "3   2022-05-31 14:52:39+00:00  \n",
       "4   2022-05-31 14:52:38+00:00  \n",
       "..                        ...  \n",
       "833 2022-05-31 14:38:30+00:00  \n",
       "834 2022-05-31 14:38:30+00:00  \n",
       "835 2022-05-31 14:38:28+00:00  \n",
       "836 2022-05-31 14:38:27+00:00  \n",
       "837 2022-05-31 14:38:27+00:00  \n",
       "\n",
       "[838 rows x 7 columns]"
      ]
     },
     "execution_count": 39,
     "metadata": {},
     "output_type": "execute_result"
    }
   ],
   "source": [
    "df_mentions"
   ]
  },
  {
   "cell_type": "code",
   "execution_count": 40,
   "metadata": {},
   "outputs": [],
   "source": [
    "df_mentions.to_csv('./data/menciones/raw_menciones_petro_31052022.csv', sep='|', index_label='id_df')"
   ]
  }
 ],
 "metadata": {
  "interpreter": {
   "hash": "b0fa6594d8f4cbf19f97940f81e996739fb7646882a419484c72d19e05852a7e"
  },
  "kernelspec": {
   "display_name": "Python 3.9.13 64-bit",
   "language": "python",
   "name": "python3"
  },
  "language_info": {
   "codemirror_mode": {
    "name": "ipython",
    "version": 3
   },
   "file_extension": ".py",
   "mimetype": "text/x-python",
   "name": "python",
   "nbconvert_exporter": "python",
   "pygments_lexer": "ipython3",
   "version": "3.9.13"
  },
  "toc-autonumbering": false
 },
 "nbformat": 4,
 "nbformat_minor": 4
}
