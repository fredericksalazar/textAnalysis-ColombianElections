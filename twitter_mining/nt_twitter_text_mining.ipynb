{
 "cells": [
  {
   "cell_type": "markdown",
   "metadata": {},
   "source": [
    "# Pre Procesamiento de tweets\n",
    "\n",
    "ya que tenemos los tweets descargados de cada uno de los candidatos, vamos a realizar un preprocesamiento de los datos a fin de limpiarlos, normalizarlos y estandarizarlos.\n",
    "\n",
    "- las fechas quedarán en formato yyyy-mm-dd\n",
    "- todo estará en minusculas\n",
    "- solo se trabajará con palabras\n"
   ]
  },
  {
   "cell_type": "code",
   "execution_count": 11,
   "metadata": {},
   "outputs": [],
   "source": [
    "# Importamos librerias requeridas\n",
    "\n",
    "from sklearn.feature_extraction.text import CountVectorizer\n",
    "from nltk.corpus import stopwords\n",
    "\n",
    "import matplotlib.pyplot as plt\n",
    "import pandas as pd\n",
    "import re \n",
    "import spacy"
   ]
  },
  {
   "cell_type": "code",
   "execution_count": 12,
   "metadata": {},
   "outputs": [],
   "source": [
    "nlp = spacy.load('es_core_news_lg')\n",
    "\n",
    "es_stop_words = stopwords.words('spanish')"
   ]
  },
  {
   "cell_type": "code",
   "execution_count": 13,
   "metadata": {},
   "outputs": [],
   "source": [
    "#Se crean funciones auxiliares para el proces\n",
    "\n",
    "def cleantext(text):\n",
    "    txt_mod = \"\"\n",
    "    text = re.sub(r'(https?://)?(www\\.)?([a-zA-Z0-9_%]*)\\b\\.[a-z]{2,4}(\\.[a-z]{2})?((/[a-zA-Z0-9_%]*)+)?(\\.[a-z]*)?', '', text)\n",
    "    text = re.sub(r'@[A-Za-z09]+', '', text)\n",
    "    text = re.sub(r'#', '', text)\n",
    "    text = re.sub(r'RT[\\s]+', '', text)\n",
    "    text = re.sub(r'https?:\\/\\/?', '', text)\n",
    "    text = text.replace('\\n', '')\n",
    "    text = text.replace('.', ' ')\n",
    "    text = text.replace(',', ' ')\n",
    "    text = re.sub(r't.co+', '', text)\n",
    "    \n",
    "    \n",
    "    for word in text.split(' '):\n",
    "        if len(txt_mod) == 0:\n",
    "            txt_mod = word.lower().strip()\n",
    "        else:\n",
    "            txt_mod = txt_mod+' '+word.lower().strip()\n",
    "                \n",
    "    return txt_mod"
   ]
  },
  {
   "cell_type": "code",
   "execution_count": 14,
   "metadata": {},
   "outputs": [],
   "source": [
    "#Cargamos los dataframes de los tweets originales descargados\n",
    "\n",
    "df_tweets_petro = pd.read_csv('./data/tweets_petro.csv', sep='|')\n",
    "df_tweets_petro = df_tweets_petro[['id',\n",
    "                                   'texto',\n",
    "                                   'fecha']]\n",
    "\n",
    "df_tweets_fajardo = pd.read_csv('./data/tweets_sergio.csv', sep='|')\n",
    "df_tweets_fajardo = df_tweets_fajardo[['id',\n",
    "                                       'texto',\n",
    "                                       'fecha']]\n",
    "\n",
    "df_tweets_rodolfo = pd.read_csv('./data/tweets_rodolfo.csv', sep='|')\n",
    "df_tweets_rodolfo = df_tweets_rodolfo[['id',\n",
    "                                       'texto',\n",
    "                                       'fecha']]\n",
    "\n",
    "df_tweets_federico = pd.read_csv('./data/tweets_fico.csv', sep='|')\n",
    "df_tweets_federico = df_tweets_federico[['id',\n",
    "                                         'texto',\n",
    "                                         'fecha']]"
   ]
  },
  {
   "cell_type": "code",
   "execution_count": 15,
   "metadata": {},
   "outputs": [],
   "source": [
    "df_tweets_petro.columns = ['id', 'tweet', 'fecha_hora']\n",
    "df_tweets_fajardo.columns = ['id', 'tweet', 'fecha_hora']\n",
    "df_tweets_rodolfo.columns = ['id', 'tweet', 'fecha_hora']\n",
    "df_tweets_federico.columns = ['id', 'tweet', 'fecha_hora']"
   ]
  },
  {
   "cell_type": "code",
   "execution_count": 19,
   "metadata": {},
   "outputs": [],
   "source": [
    "#Se aplican funciones de limpieza al cada dataframe y se guarda el texto procesado.\n",
    "\n",
    "df_tweets_petro['tweet'] = df_tweets_petro['tweet'].apply(cleantext)\n",
    "df_tweets_petro.to_csv('./data/tweets_petro_clean.csv')\n",
    "\n",
    "df_tweets_fajardo['tweet'] = df_tweets_fajardo['tweet'].apply(cleantext)\n",
    "df_tweets_fajardo.to_csv('./data/tweets_fajardo_clean.csv')\n",
    "\n",
    "df_tweets_rodolfo['tweet'] = df_tweets_rodolfo['tweet'].apply(cleantext)\n",
    "df_tweets_rodolfo.to_csv('./data/tweets_rodolfo_clean.csv')\n",
    "\n",
    "df_tweets_federico['tweet'] = df_tweets_federico['tweet'].apply(cleantext)\n",
    "df_tweets_federico.to_csv('./data/tweets_fico_clean.csv')"
   ]
  },
  {
   "cell_type": "code",
   "execution_count": 32,
   "metadata": {},
   "outputs": [],
   "source": [
    "df_tweets_petro['fecha'] = pd.to_datetime(df_tweets_petro['fecha_hora']).dt.date\n",
    "df_tweets_fajardo['fecha'] = pd.to_datetime(df_tweets_fajardo['fecha_hora']).dt.date\n",
    "df_tweets_rodolfo['fecha'] = pd.to_datetime(df_tweets_rodolfo['fecha_hora']).dt.date\n",
    "df_tweets_federico['fecha'] = pd.to_datetime(df_tweets_federico['fecha_hora']).dt.date"
   ]
  },
  {
   "cell_type": "code",
   "execution_count": 53,
   "metadata": {},
   "outputs": [],
   "source": [
    "df_estadisticas_petro = df_tweets_petro[['fecha', 'id']]\n",
    "df_estadisticas_fajardo = df_tweets_fajardo[['fecha', 'id']]\n",
    "df_estadisticas_rodolfo = df_tweets_rodolfo[['fecha', 'id']]\n",
    "df_estadisticas_federico = df_tweets_federico[['fecha', 'id']]\n",
    "\n",
    "df_estadisticas_petro = df_estadisticas_petro.groupby('fecha').count()\n",
    "df_estadisticas_petro['usuario'] = '@petrogustavo'\n",
    "df_estadisticas_fajardo = df_estadisticas_fajardo.groupby('fecha').count()\n",
    "df_estadisticas_fajardo['usuario'] = '@sergio_fajardo'\n",
    "df_estadisticas_rodolfo= df_estadisticas_rodolfo.groupby('fecha').count()\n",
    "df_estadisticas_rodolfo['usuario'] = '@ingrodolfohdez'\n",
    "df_estadisticas_federico = df_estadisticas_federico.groupby('fecha').count()\n",
    "df_estadisticas_federico['usuario'] = '@ficogutierrez'\n"
   ]
  },
  {
   "cell_type": "code",
   "execution_count": 85,
   "metadata": {},
   "outputs": [
    {
     "data": {
      "text/plain": [
       "Text(0, 0.5, 'Total Tweets')"
      ]
     },
     "execution_count": 85,
     "metadata": {},
     "output_type": "execute_result"
    },
    {
     "data": {
      "image/png": "[encoded data removed]",
      "text/plain": [
       "<Figure size 2160x720 with 1 Axes>"
      ]
     },
     "metadata": {
      "needs_background": "light"
     },
     "output_type": "display_data"
    }
   ],
   "source": [
    "df_estadisticas_petro.plot.bar(figsize = (30,10))\n",
    "\n",
    "plt.title(\"Total Tweets X Día @petrogustavo\")\n",
    "plt.xlabel(\"Fecha\")\n",
    "plt.ylabel(\"Total Tweets\")"
   ]
  },
  {
   "cell_type": "code",
   "execution_count": 58,
   "metadata": {},
   "outputs": [],
   "source": [
    "df_estadisticas_twitter = pd.concat([df_estadisticas_petro,\n",
    "                                    df_estadisticas_fajardo,\n",
    "                                    df_estadisticas_rodolfo,\n",
    "                                    df_estadisticas_federico])\n",
    "\n",
    "df_estadisticas_twitter.to_csv('./data/df_estadisticas_tweets_x_usuario.csv')"
   ]
  }
 ],
 "metadata": {
  "interpreter": {
   "hash": "b0fa6594d8f4cbf19f97940f81e996739fb7646882a419484c72d19e05852a7e"
  },
  "kernelspec": {
   "display_name": "Python 3.9.12 64-bit",
   "language": "python",
   "name": "python3"
  },
  "language_info": {
   "codemirror_mode": {
    "name": "ipython",
    "version": 3
   },
   "file_extension": ".py",
   "mimetype": "text/x-python",
   "name": "python",
   "nbconvert_exporter": "python",
   "pygments_lexer": "ipython3",
   "version": "3.9.12"
  },
  "orig_nbformat": 4
 },
 "nbformat": 4,
 "nbformat_minor": 2
}
