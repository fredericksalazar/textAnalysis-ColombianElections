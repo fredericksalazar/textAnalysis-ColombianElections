{
 "cells": [
  {
   "cell_type": "markdown",
   "metadata": {},
   "source": [
    "# Pre Procesamiento de tweets\n",
    "\n",
    "ya que tenemos los tweets descargados de cada uno de los candidatos, vamos a realizar un preprocesamiento de los datos a fin de limpiarlos, normalizarlos y estandarizarlos.\n",
    "\n",
    "- las fechas quedarán en formato yyyy-mm-dd\n",
    "- todo estará en minusculas\n",
    "- solo se trabajará con palabras\n"
   ]
  },
  {
   "cell_type": "code",
   "execution_count": 74,
   "metadata": {},
   "outputs": [],
   "source": [
    "import pandas as pd\n",
    "import re "
   ]
  },
  {
   "cell_type": "code",
   "execution_count": 75,
   "metadata": {},
   "outputs": [],
   "source": [
    "def cleantext(text):\n",
    "    txt_mod = \"\"\n",
    "    text = re.sub(r'(https?://)?(www\\.)?([a-zA-Z0-9_%]*)\\b\\.[a-z]{2,4}(\\.[a-z]{2})?((/[a-zA-Z0-9_%]*)+)?(\\.[a-z]*)?', '', text)\n",
    "    text = re.sub(r'@[A-Za-z09]+', '', text)\n",
    "    text = re.sub(r'#', '', text)\n",
    "    text = re.sub(r'RT[\\s]+', '', text)\n",
    "    text = re.sub(r'https?:\\/\\/?', '', text)\n",
    "    text = text.replace('\\n', '')\n",
    "    text = text.replace('.', ' ')\n",
    "    text = text.replace(',', ' ')\n",
    "    text = re.sub(r't.co+', '', text)\n",
    "    \n",
    "    \n",
    "    for word in text.split(' '):\n",
    "        if len(txt_mod) == 0:\n",
    "            txt_mod = word.lower().strip()\n",
    "        else:\n",
    "            txt_mod = txt_mod+' '+word.lower().strip()\n",
    "                \n",
    "    return txt_mod"
   ]
  },
  {
   "cell_type": "code",
   "execution_count": 77,
   "metadata": {},
   "outputs": [],
   "source": [
    "df_tweets_petro = pd.read_csv('./data/tweets_petro.csv', sep='|')\n",
    "df_tweets_petro = df_tweets_petro[['id',\n",
    "                                   'texto',\n",
    "                                   'fecha']]\n",
    "\n",
    "df_tweets_fajardo = pd.read_csv('./data/tweets_sergio.csv', sep='|')\n",
    "df_tweets_fajardo = df_tweets_fajardo[['id',\n",
    "                                   'texto',\n",
    "                                   'fecha']]\n",
    "\n",
    "df_tweets_rodolfo = pd.read_csv('./data/tweets_rodolfo.csv', sep='|')\n",
    "df_tweets_fajardo = df_tweets_fajardo[['id',\n",
    "                                   'texto',\n",
    "                                   'fecha']]\n",
    "\n",
    "df_tweets_federico = pd.read_csv('./data/tweets_fico.csv', sep='|')\n",
    "df_tweets_federico = df_tweets_federico[['id',\n",
    "                                   'texto',\n",
    "                                   'fecha']]"
   ]
  },
  {
   "cell_type": "code",
   "execution_count": 78,
   "metadata": {},
   "outputs": [],
   "source": [
    "df_tweets_petro['texto'] = df_tweets_petro['texto'].apply(cleantext)\n",
    "df_tweets_petro.to_csv('./data/tweets_petro_clean.csv')\n",
    "\n",
    "df_tweets_fajardo['texto'] = df_tweets_fajardo['texto'].apply(cleantext)\n",
    "df_tweets_fajardo.to_csv('./data/tweets_fajardo_clean.csv')\n",
    "\n",
    "df_tweets_rodolfo['texto'] = df_tweets_rodolfo['texto'].apply(cleantext)\n",
    "df_tweets_rodolfo.to_csv('./data/tweets_rodolfo_clean.csv')\n",
    "\n",
    "df_tweets_federico['texto'] = df_tweets_federico['texto'].apply(cleantext)\n",
    "df_tweets_federico.to_csv('./data/tweets_fico_clean.csv')"
   ]
  }
 ],
 "metadata": {
  "interpreter": {
   "hash": "b0fa6594d8f4cbf19f97940f81e996739fb7646882a419484c72d19e05852a7e"
  },
  "kernelspec": {
   "display_name": "Python 3.9.12 64-bit",
   "language": "python",
   "name": "python3"
  },
  "language_info": {
   "codemirror_mode": {
    "name": "ipython",
    "version": 3
   },
   "file_extension": ".py",
   "mimetype": "text/x-python",
   "name": "python",
   "nbconvert_exporter": "python",
   "pygments_lexer": "ipython3",
   "version": "3.9.12"
  },
  "orig_nbformat": 4
 },
 "nbformat": 4,
 "nbformat_minor": 2
}
