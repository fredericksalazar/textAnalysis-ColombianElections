{
 "cells": [
  {
   "cell_type": "markdown",
   "metadata": {},
   "source": [
    "# Mineria de Palabras \n",
    "\n",
    "haremos un ejercicio de mineria de palabras en cada uno de los documentos de planes de gobierno de los candidatos a fin de identificar el uso de palabra de interes comun en cada texto."
   ]
  },
  {
   "cell_type": "code",
   "execution_count": 82,
   "metadata": {},
   "outputs": [],
   "source": [
    "import spacy\n",
    "import seaborn as sns\n",
    "import pandas as pd\n",
    "import matplotlib.pyplot as plt\n",
    "\n",
    "from spacy.matcher import Matcher\n",
    "\n",
    "nlp = spacy.load('es_core_news_lg')\n",
    "\n",
    "purple_colors = [\"#480ca8\", \"#7209b7\", \"#b5179e\", \"#f72585\"]"
   ]
  },
  {
   "cell_type": "code",
   "execution_count": 83,
   "metadata": {},
   "outputs": [],
   "source": [
    "def leer_texto(path_archivo):\n",
    "    \n",
    "    \"\"\"obtiene un string con el texto completro de un archivo\n",
    "\n",
    "    Returns:\n",
    "        _string_: \n",
    "        string: texto de un archivos\n",
    "    \"\"\"\n",
    "\n",
    "    text = ''\n",
    "    \n",
    "    archivo = open(path_archivo, 'r', encoding='utf8')\n",
    "\n",
    "    while(True):\n",
    "        linea = archivo.readline()\n",
    "        text = text+linea\n",
    "        if not linea:\n",
    "            break\n",
    "    \n",
    "    archivo.close\n",
    "    \n",
    "    return text"
   ]
  },
  {
   "cell_type": "code",
   "execution_count": 84,
   "metadata": {},
   "outputs": [],
   "source": [
    "petro_txt = leer_texto('./archivos/petro_clean.pdf.txt')\n",
    "fajardo_txt = leer_texto('./archivos/fajardo_clean.pdf.txt')\n",
    "rodolfo_txt = leer_texto('./archivos/rodolfo_clean.pdf.txt')\n",
    "federico_txt = leer_texto('./archivos/federico_clean.pdf.txt')\n",
    "\n",
    "#Creamos los objetos Doc de cada uno de los archivos de planes de gobierno\n",
    "doc_petro = nlp(petro_txt)\n",
    "doc_fajardo = nlp(fajardo_txt)\n",
    "doc_rodolfo = nlp(rodolfo_txt)\n",
    "doc_federico = nlp(federico_txt)"
   ]
  },
  {
   "cell_type": "code",
   "execution_count": 85,
   "metadata": {},
   "outputs": [],
   "source": [
    "mth_petro = Matcher(doc_petro.vocab)\n",
    "mth_fajardo = Matcher(doc_fajardo.vocab)\n",
    "mth_rodolfo = Matcher(doc_rodolfo.vocab)\n",
    "mth_federico = Matcher(doc_federico.vocab)"
   ]
  },
  {
   "cell_type": "markdown",
   "metadata": {},
   "source": [
    "## Definición de patrones de búsqueda"
   ]
  },
  {
   "cell_type": "code",
   "execution_count": 116,
   "metadata": {},
   "outputs": [],
   "source": [
    "search_paz = [{'TEXT':'paz'}]\n",
    "search_seguridad = [{'TEXT':'seguridad'}]\n",
    "search_reforma_tributaria = [{'TEXT':'reforma tributaria'}]\n",
    "\n",
    "mth_petro.add('paz', [search_paz])\n",
    "mth_fajardo.add('paz', [search_paz])\n",
    "mth_rodolfo.add('paz', [search_paz])\n",
    "mth_federico.add('paz', [search_paz])\n",
    "\n",
    "mth_petro.add('seguridad', [search_seguridad])\n",
    "mth_fajardo.add('seguridad', [search_seguridad])\n",
    "mth_rodolfo.add('seguridad', [search_seguridad])\n",
    "mth_federico.add('seguridad', [search_seguridad])\n",
    "\n",
    "mth_petro.add('ref_tributaria', [search_reforma_tributaria])\n",
    "mth_fajardo.add('ref_tributaria', [search_reforma_tributaria])\n",
    "mth_rodolfo.add('ref_tributaria', [search_reforma_tributaria])\n",
    "mth_federico.add('ref_tributaria', [search_reforma_tributaria])\n",
    "#Ahora buscamos las coincidencias dentro de cada documento\n",
    "\n",
    "matches_petro = mth_petro(doc_petro)\n",
    "matches_fajardo = mth_fajardo(doc_fajardo)\n",
    "matches_rodolfo = mth_rodolfo(doc_rodolfo)\n",
    "matches_federico = mth_federico(doc_federico)"
   ]
  },
  {
   "cell_type": "code",
   "execution_count": 117,
   "metadata": {},
   "outputs": [],
   "source": [
    "#Resultados de coincidencia para petro\n",
    "\n",
    "lista_paz_petro= []\n",
    "lista_paz_fajardo = []\n",
    "lista_paz_rodolfo = []\n",
    "lista_paz_federico = []\n",
    "\n",
    "lista_seguridad_petro= []\n",
    "lista_seguridad_fajardo = []\n",
    "lista_seguridad_rodolfo = []\n",
    "lista_seguridad_federico = []\n",
    "\n",
    "lista_ref_tributaria_petro= []\n",
    "lista_ref_tributaria_fajardo = []\n",
    "lista_ref_tributaria_rodolfo = []\n",
    "lista_ref_tributaria_federico = []\n",
    "\n",
    "for match_id, start, end in matches_petro:\n",
    "    string_id = doc_petro.vocab.strings[match_id]\n",
    "    if string_id=='paz':\n",
    "        span = doc_petro[start-5:end+5]\n",
    "        lista_paz_petro.append(span.text)\n",
    "    if string_id=='seguridad':\n",
    "        span = doc_petro[start-5:end+5]\n",
    "        lista_seguridad_petro.append(span.text)\n",
    "    if string_id=='ref_tributaria':\n",
    "        span = doc_petro[start-5:end+5]\n",
    "        lista_ref_tributaria_petro.append(span.text)\n",
    "    \n",
    "for match_id, start, end in matches_fajardo:\n",
    "    string_id = doc_fajardo.vocab.strings[match_id]\n",
    "    if string_id =='paz':\n",
    "        span = doc_fajardo[start-5:end+5]\n",
    "        lista_paz_fajardo.append(span.text)\n",
    "    if string_id =='seguridad':\n",
    "        span = doc_fajardo[start-5:end+5]\n",
    "        lista_seguridad_fajardo.append(span.text)\n",
    "    if string_id =='ref_tributaria':\n",
    "        span = doc_fajardo[start-5:end+5]\n",
    "        lista_ref_tributaria_fajardo.append(span.text)\n",
    "    \n",
    "for match_id, start, end in matches_rodolfo:\n",
    "    string_id = doc_rodolfo.vocab.strings[match_id]\n",
    "    if string_id == 'paz':\n",
    "        span = doc_rodolfo[start-5:end+5]\n",
    "        lista_paz_rodolfo.append(span.text)\n",
    "    if string_id == 'seguridad':\n",
    "        span = doc_rodolfo[start-5:end+5]\n",
    "        lista_seguridad_rodolfo.append(span.text)\n",
    "    if string_id == 'ref_tributaria':\n",
    "        span = doc_rodolfo[start-5:end+5]\n",
    "        lista_ref_tributaria_rodolfo.append(span.text)\n",
    "    \n",
    "for match_id, start, end in matches_federico:\n",
    "    string_id = doc_federico.vocab.strings[match_id]\n",
    "    if string_id=='paz':\n",
    "        span = doc_federico[start-5:end+5]\n",
    "        lista_paz_federico.append(span.text)\n",
    "    if string_id=='seguridad':\n",
    "        span = doc_federico[start-5:end+5]\n",
    "        lista_seguridad_federico.append(span.text)\n",
    "    if string_id=='ref_tributaria':\n",
    "        span = doc_federico[start-5:end+5]\n",
    "        lista_ref_tributaria_federico.append(span.text)"
   ]
  },
  {
   "cell_type": "code",
   "execution_count": 118,
   "metadata": {},
   "outputs": [],
   "source": [
    "dic_paz = {\n",
    "    'candidatos': ['Petro', 'Fajardo', 'Rodolfo', 'Federico'],\n",
    "    'Freq':[len(lista_paz_petro), len(lista_paz_fajardo), len(lista_paz_rodolfo), len(lista_paz_federico)]\n",
    "}\n",
    "\n",
    "dic_seguridad = {\n",
    "    'candidatos': ['Petro', 'Fajardo', 'Rodolfo', 'Federico'],\n",
    "    'Freq':[len(lista_seguridad_petro), len(lista_seguridad_fajardo), len(lista_seguridad_rodolfo), len(lista_seguridad_federico)]\n",
    "}\n",
    "\n",
    "dic_ref_tributaria = {\n",
    "    'candidatos': ['Petro', 'Fajardo', 'Rodolfo', 'Federico'],\n",
    "    'Freq':[len(lista_ref_tributaria_petro), len(lista_ref_tributaria_fajardo), len(lista_ref_tributaria_rodolfo), len(lista_ref_tributaria_federico)]\n",
    "}\n",
    "\n",
    "df_paz = pd.DataFrame.from_dict(dic_paz)\n",
    "df_seguridad = pd.DataFrame.from_dict(dic_seguridad)\n",
    "df_ref_tributaria = pd.DataFrame.from_dict(dic_ref_tributaria)"
   ]
  },
  {
   "cell_type": "code",
   "execution_count": 119,
   "metadata": {},
   "outputs": [
    {
     "data": {
      "text/html": [
       "<div>\n",
       "<style scoped>\n",
       "    .dataframe tbody tr th:only-of-type {\n",
       "        vertical-align: middle;\n",
       "    }\n",
       "\n",
       "    .dataframe tbody tr th {\n",
       "        vertical-align: top;\n",
       "    }\n",
       "\n",
       "    .dataframe thead th {\n",
       "        text-align: right;\n",
       "    }\n",
       "</style>\n",
       "<table border=\"1\" class=\"dataframe\">\n",
       "  <thead>\n",
       "    <tr style=\"text-align: right;\">\n",
       "      <th></th>\n",
       "      <th>candidatos</th>\n",
       "      <th>Freq</th>\n",
       "    </tr>\n",
       "  </thead>\n",
       "  <tbody>\n",
       "    <tr>\n",
       "      <th>0</th>\n",
       "      <td>Petro</td>\n",
       "      <td>8</td>\n",
       "    </tr>\n",
       "    <tr>\n",
       "      <th>1</th>\n",
       "      <td>Fajardo</td>\n",
       "      <td>4</td>\n",
       "    </tr>\n",
       "    <tr>\n",
       "      <th>2</th>\n",
       "      <td>Rodolfo</td>\n",
       "      <td>4</td>\n",
       "    </tr>\n",
       "    <tr>\n",
       "      <th>3</th>\n",
       "      <td>Federico</td>\n",
       "      <td>1</td>\n",
       "    </tr>\n",
       "  </tbody>\n",
       "</table>\n",
       "</div>"
      ],
      "text/plain": [
       "  candidatos  Freq\n",
       "0      Petro     8\n",
       "1    Fajardo     4\n",
       "2    Rodolfo     4\n",
       "3   Federico     1"
      ]
     },
     "execution_count": 119,
     "metadata": {},
     "output_type": "execute_result"
    }
   ],
   "source": [
    "df_ref_tributaria"
   ]
  },
  {
   "cell_type": "code",
   "execution_count": 120,
   "metadata": {},
   "outputs": [
    {
     "data": {
      "text/plain": [
       "<AxesSubplot:title={'center':'Frecuencia uso palabra PAZ por plan de gobierno'}, xlabel='candidatos', ylabel='Frecuencia'>"
      ]
     },
     "execution_count": 120,
     "metadata": {},
     "output_type": "execute_result"
    },
    {
     "data": {
      "image/png": "[encoded data removed]",
      "text/plain": [
       "<Figure size 1440x720 with 1 Axes>"
      ]
     },
     "metadata": {
      "needs_background": "light"
     },
     "output_type": "display_data"
    }
   ],
   "source": [
    "df_paz.sort_values(by='Freq', ascending=False).plot.bar(x='candidatos',\n",
    "                                                        y='Freq',\n",
    "                                                        figsize = (20,10),\n",
    "                                                        title=\"Frecuencia uso palabra PAZ por plan de gobierno\",\n",
    "                                                        color=purple_colors,\n",
    "                                                        grid = True,\n",
    "                                                        legend = True,\n",
    "                                                        ylabel = \"Frecuencia\")\n"
   ]
  },
  {
   "cell_type": "code",
   "execution_count": 121,
   "metadata": {},
   "outputs": [
    {
     "data": {
      "text/plain": [
       "<AxesSubplot:title={'center':'Frecuencia uso palabra SEGURIDAD por plan de gobierno'}, xlabel='candidatos', ylabel='Frecuencia'>"
      ]
     },
     "execution_count": 121,
     "metadata": {},
     "output_type": "execute_result"
    },
    {
     "data": {
      "image/png": "[encoded data removed]",
      "text/plain": [
       "<Figure size 1440x720 with 1 Axes>"
      ]
     },
     "metadata": {
      "needs_background": "light"
     },
     "output_type": "display_data"
    }
   ],
   "source": [
    "df_seguridad.sort_values(by='Freq', ascending=False).plot.bar(x='candidatos',\n",
    "                                                        y='Freq',\n",
    "                                                        figsize = (20,10),\n",
    "                                                        title=\"Frecuencia uso palabra SEGURIDAD por plan de gobierno\",\n",
    "                                                        color=purple_colors,\n",
    "                                                        grid = True,\n",
    "                                                        legend = True,\n",
    "                                                        ylabel = \"Frecuencia\")"
   ]
  },
  {
   "cell_type": "code",
   "execution_count": 122,
   "metadata": {},
   "outputs": [
    {
     "data": {
      "text/plain": [
       "<AxesSubplot:title={'center':'Frecuencia uso palabra REFORMA TRIBUTARIA por plan de gobierno'}, xlabel='candidatos', ylabel='Frecuencia'>"
      ]
     },
     "execution_count": 122,
     "metadata": {},
     "output_type": "execute_result"
    },
    {
     "data": {
      "image/png": "[encoded data removed]",
      "text/plain": [
       "<Figure size 1440x720 with 1 Axes>"
      ]
     },
     "metadata": {
      "needs_background": "light"
     },
     "output_type": "display_data"
    }
   ],
   "source": [
    "df_ref_tributaria.sort_values(by='Freq', ascending=False).plot.bar(x='candidatos',\n",
    "                                                        y='Freq',\n",
    "                                                        figsize = (20,10),\n",
    "                                                        title=\"Frecuencia uso palabra REFORMA TRIBUTARIA por plan de gobierno\",\n",
    "                                                        color=purple_colors,\n",
    "                                                        grid = True,\n",
    "                                                        legend = True,\n",
    "                                                        ylabel = \"Frecuencia\")"
   ]
  },
  {
   "cell_type": "code",
   "execution_count": 125,
   "metadata": {},
   "outputs": [
    {
     "data": {
      "text/plain": [
       "['reformas económicas pendientes pensional y tributaria de desarrollo productivo educación ciencia',\n",
       " 'reformas económicas pendientes laboral y tributaria que junto con una mayor',\n",
       " 'el alto desempleo en reforma tributaria reforma tributaria tendrá legitimidad basada',\n",
       " 'desempleo en reforma tributaria reforma tributaria tendrá legitimidad basada en i']"
      ]
     },
     "execution_count": 125,
     "metadata": {},
     "output_type": "execute_result"
    }
   ],
   "source": [
    "lista_ref_tributaria_fajardo"
   ]
  }
 ],
 "metadata": {
  "interpreter": {
   "hash": "b0fa6594d8f4cbf19f97940f81e996739fb7646882a419484c72d19e05852a7e"
  },
  "kernelspec": {
   "display_name": "Python 3 (ipykernel)",
   "language": "python",
   "name": "python3"
  },
  "language_info": {
   "codemirror_mode": {
    "name": "ipython",
    "version": 3
   },
   "file_extension": ".py",
   "mimetype": "text/x-python",
   "name": "python",
   "nbconvert_exporter": "python",
   "pygments_lexer": "ipython3",
   "version": "3.9.12"
  }
 },
 "nbformat": 4,
 "nbformat_minor": 2
}
